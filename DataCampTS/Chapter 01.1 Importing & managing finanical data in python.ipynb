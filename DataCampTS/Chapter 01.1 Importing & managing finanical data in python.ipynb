{
 "cells": [
  {
   "cell_type": "code",
   "execution_count": 11,
   "metadata": {},
   "outputs": [],
   "source": [
    "# importing & managing finanical data in python\n",
    "import warnings\n",
    "warnings.filterwarnings(\"ignore\")"
   ]
  },
  {
   "cell_type": "code",
   "execution_count": 3,
   "metadata": {},
   "outputs": [],
   "source": [
    "# read, inspect and clean data from csv files\n",
    "import pandas as pd\n",
    "amex = pd.read_csv('amex-listings.csv')"
   ]
  },
  {
   "cell_type": "code",
   "execution_count": 4,
   "metadata": {},
   "outputs": [
    {
     "name": "stdout",
     "output_type": "stream",
     "text": [
      "<class 'pandas.core.frame.DataFrame'>\n",
      "RangeIndex: 360 entries, 0 to 359\n",
      "Data columns (total 8 columns):\n",
      "Stock Symbol             360 non-null object\n",
      "Company Name             360 non-null object\n",
      "Last Sale                346 non-null float64\n",
      "Market Capitalization    360 non-null float64\n",
      "IPO Year                 105 non-null float64\n",
      "Sector                   238 non-null object\n",
      "Industry                 238 non-null object\n",
      "Last Update              360 non-null object\n",
      "dtypes: float64(3), object(5)\n",
      "memory usage: 22.6+ KB\n"
     ]
    }
   ],
   "source": [
    "amex.info()"
   ]
  },
  {
   "cell_type": "code",
   "execution_count": 5,
   "metadata": {},
   "outputs": [
    {
     "data": {
      "text/html": [
       "<div>\n",
       "<style scoped>\n",
       "    .dataframe tbody tr th:only-of-type {\n",
       "        vertical-align: middle;\n",
       "    }\n",
       "\n",
       "    .dataframe tbody tr th {\n",
       "        vertical-align: top;\n",
       "    }\n",
       "\n",
       "    .dataframe thead th {\n",
       "        text-align: right;\n",
       "    }\n",
       "</style>\n",
       "<table border=\"1\" class=\"dataframe\">\n",
       "  <thead>\n",
       "    <tr style=\"text-align: right;\">\n",
       "      <th></th>\n",
       "      <th>Stock Symbol</th>\n",
       "      <th>Company Name</th>\n",
       "      <th>Last Sale</th>\n",
       "      <th>Market Capitalization</th>\n",
       "      <th>IPO Year</th>\n",
       "      <th>Sector</th>\n",
       "      <th>Industry</th>\n",
       "      <th>Last Update</th>\n",
       "    </tr>\n",
       "  </thead>\n",
       "  <tbody>\n",
       "    <tr>\n",
       "      <th>0</th>\n",
       "      <td>XXII</td>\n",
       "      <td>22nd Century Group, Inc</td>\n",
       "      <td>1.3300</td>\n",
       "      <td>1.206285e+08</td>\n",
       "      <td>NaN</td>\n",
       "      <td>Consumer Non-Durables</td>\n",
       "      <td>Farming/Seeds/Milling</td>\n",
       "      <td>4/26/17</td>\n",
       "    </tr>\n",
       "    <tr>\n",
       "      <th>1</th>\n",
       "      <td>FAX</td>\n",
       "      <td>Aberdeen Asia-Pacific Income Fund Inc</td>\n",
       "      <td>5.0000</td>\n",
       "      <td>1.266333e+09</td>\n",
       "      <td>1986.0</td>\n",
       "      <td>NaN</td>\n",
       "      <td>NaN</td>\n",
       "      <td>4/25/17</td>\n",
       "    </tr>\n",
       "    <tr>\n",
       "      <th>2</th>\n",
       "      <td>IAF</td>\n",
       "      <td>Aberdeen Australia Equity Fund Inc</td>\n",
       "      <td>6.1500</td>\n",
       "      <td>1.398653e+08</td>\n",
       "      <td>NaN</td>\n",
       "      <td>NaN</td>\n",
       "      <td>NaN</td>\n",
       "      <td>4/23/17</td>\n",
       "    </tr>\n",
       "    <tr>\n",
       "      <th>3</th>\n",
       "      <td>CH</td>\n",
       "      <td>Aberdeen Chile Fund, Inc.</td>\n",
       "      <td>7.2201</td>\n",
       "      <td>6.756346e+07</td>\n",
       "      <td>NaN</td>\n",
       "      <td>NaN</td>\n",
       "      <td>NaN</td>\n",
       "      <td>4/26/17</td>\n",
       "    </tr>\n",
       "    <tr>\n",
       "      <th>4</th>\n",
       "      <td>ABE</td>\n",
       "      <td>Aberdeen Emerging Markets Smaller Company Oppo...</td>\n",
       "      <td>13.3600</td>\n",
       "      <td>1.288430e+08</td>\n",
       "      <td>NaN</td>\n",
       "      <td>NaN</td>\n",
       "      <td>NaN</td>\n",
       "      <td>4/25/17</td>\n",
       "    </tr>\n",
       "  </tbody>\n",
       "</table>\n",
       "</div>"
      ],
      "text/plain": [
       "     Stock Symbol                                       Company Name  \\\n",
       "0            XXII                            22nd Century Group, Inc   \n",
       "1             FAX              Aberdeen Asia-Pacific Income Fund Inc   \n",
       "2             IAF                 Aberdeen Australia Equity Fund Inc   \n",
       "3              CH                          Aberdeen Chile Fund, Inc.   \n",
       "4  ABE             Aberdeen Emerging Markets Smaller Company Oppo...   \n",
       "\n",
       "   Last Sale  Market Capitalization  IPO Year                 Sector  \\\n",
       "0     1.3300           1.206285e+08       NaN  Consumer Non-Durables   \n",
       "1     5.0000           1.266333e+09    1986.0                    NaN   \n",
       "2     6.1500           1.398653e+08       NaN                    NaN   \n",
       "3     7.2201           6.756346e+07       NaN                    NaN   \n",
       "4    13.3600           1.288430e+08       NaN                    NaN   \n",
       "\n",
       "                Industry Last Update  \n",
       "0  Farming/Seeds/Milling     4/26/17  \n",
       "1                    NaN     4/25/17  \n",
       "2                    NaN     4/23/17  \n",
       "3                    NaN     4/26/17  \n",
       "4                    NaN     4/25/17  "
      ]
     },
     "execution_count": 5,
     "metadata": {},
     "output_type": "execute_result"
    }
   ],
   "source": [
    "amex.head()"
   ]
  },
  {
   "cell_type": "code",
   "execution_count": null,
   "metadata": {},
   "outputs": [],
   "source": [
    "# dealing with missing values"
   ]
  },
  {
   "cell_type": "code",
   "execution_count": 6,
   "metadata": {},
   "outputs": [
    {
     "name": "stdout",
     "output_type": "stream",
     "text": [
      "<class 'pandas.core.frame.DataFrame'>\n",
      "RangeIndex: 360 entries, 0 to 359\n",
      "Data columns (total 8 columns):\n",
      "Stock Symbol             360 non-null object\n",
      "Company Name             360 non-null object\n",
      "Last Sale                346 non-null float64\n",
      "Market Capitalization    360 non-null float64\n",
      "IPO Year                 105 non-null float64\n",
      "Sector                   238 non-null object\n",
      "Industry                 238 non-null object\n",
      "Last Update              360 non-null object\n",
      "dtypes: float64(3), object(5)\n",
      "memory usage: 22.6+ KB\n"
     ]
    }
   ],
   "source": [
    "amex = pd.read_csv('amex-listings.csv', na_values = 'n/a')\n",
    "amex.info()"
   ]
  },
  {
   "cell_type": "code",
   "execution_count": 7,
   "metadata": {},
   "outputs": [
    {
     "name": "stdout",
     "output_type": "stream",
     "text": [
      "<class 'pandas.core.frame.DataFrame'>\n",
      "RangeIndex: 360 entries, 0 to 359\n",
      "Data columns (total 8 columns):\n",
      "Stock Symbol             360 non-null object\n",
      "Company Name             360 non-null object\n",
      "Last Sale                346 non-null float64\n",
      "Market Capitalization    360 non-null float64\n",
      "IPO Year                 105 non-null float64\n",
      "Sector                   238 non-null object\n",
      "Industry                 238 non-null object\n",
      "Last Update              360 non-null datetime64[ns]\n",
      "dtypes: datetime64[ns](1), float64(3), object(4)\n",
      "memory usage: 22.6+ KB\n"
     ]
    }
   ],
   "source": [
    "amex = pd.read_csv('amex-listings.csv', na_values = 'n/a', parse_dates=['Last Update'])\n",
    "amex.info()"
   ]
  },
  {
   "cell_type": "code",
   "execution_count": 8,
   "metadata": {},
   "outputs": [
    {
     "data": {
      "text/html": [
       "<div>\n",
       "<style scoped>\n",
       "    .dataframe tbody tr th:only-of-type {\n",
       "        vertical-align: middle;\n",
       "    }\n",
       "\n",
       "    .dataframe tbody tr th {\n",
       "        vertical-align: top;\n",
       "    }\n",
       "\n",
       "    .dataframe thead th {\n",
       "        text-align: right;\n",
       "    }\n",
       "</style>\n",
       "<table border=\"1\" class=\"dataframe\">\n",
       "  <thead>\n",
       "    <tr style=\"text-align: right;\">\n",
       "      <th></th>\n",
       "      <th>Stock Symbol</th>\n",
       "      <th>Company Name</th>\n",
       "      <th>Last Sale</th>\n",
       "      <th>Market Capitalization</th>\n",
       "      <th>IPO Year</th>\n",
       "      <th>Sector</th>\n",
       "      <th>Industry</th>\n",
       "      <th>Last Update</th>\n",
       "    </tr>\n",
       "  </thead>\n",
       "  <tbody>\n",
       "    <tr>\n",
       "      <th>0</th>\n",
       "      <td>XXII</td>\n",
       "      <td>22nd Century Group, Inc</td>\n",
       "      <td>1.3300</td>\n",
       "      <td>1.206285e+08</td>\n",
       "      <td>NaN</td>\n",
       "      <td>Consumer Non-Durables</td>\n",
       "      <td>Farming/Seeds/Milling</td>\n",
       "      <td>2017-04-26</td>\n",
       "    </tr>\n",
       "    <tr>\n",
       "      <th>1</th>\n",
       "      <td>FAX</td>\n",
       "      <td>Aberdeen Asia-Pacific Income Fund Inc</td>\n",
       "      <td>5.0000</td>\n",
       "      <td>1.266333e+09</td>\n",
       "      <td>1986.0</td>\n",
       "      <td>NaN</td>\n",
       "      <td>NaN</td>\n",
       "      <td>2017-04-25</td>\n",
       "    </tr>\n",
       "    <tr>\n",
       "      <th>2</th>\n",
       "      <td>IAF</td>\n",
       "      <td>Aberdeen Australia Equity Fund Inc</td>\n",
       "      <td>6.1500</td>\n",
       "      <td>1.398653e+08</td>\n",
       "      <td>NaN</td>\n",
       "      <td>NaN</td>\n",
       "      <td>NaN</td>\n",
       "      <td>2017-04-23</td>\n",
       "    </tr>\n",
       "    <tr>\n",
       "      <th>3</th>\n",
       "      <td>CH</td>\n",
       "      <td>Aberdeen Chile Fund, Inc.</td>\n",
       "      <td>7.2201</td>\n",
       "      <td>6.756346e+07</td>\n",
       "      <td>NaN</td>\n",
       "      <td>NaN</td>\n",
       "      <td>NaN</td>\n",
       "      <td>2017-04-26</td>\n",
       "    </tr>\n",
       "    <tr>\n",
       "      <th>4</th>\n",
       "      <td>ABE</td>\n",
       "      <td>Aberdeen Emerging Markets Smaller Company Oppo...</td>\n",
       "      <td>13.3600</td>\n",
       "      <td>1.288430e+08</td>\n",
       "      <td>NaN</td>\n",
       "      <td>NaN</td>\n",
       "      <td>NaN</td>\n",
       "      <td>2017-04-25</td>\n",
       "    </tr>\n",
       "  </tbody>\n",
       "</table>\n",
       "</div>"
      ],
      "text/plain": [
       "     Stock Symbol                                       Company Name  \\\n",
       "0            XXII                            22nd Century Group, Inc   \n",
       "1             FAX              Aberdeen Asia-Pacific Income Fund Inc   \n",
       "2             IAF                 Aberdeen Australia Equity Fund Inc   \n",
       "3              CH                          Aberdeen Chile Fund, Inc.   \n",
       "4  ABE             Aberdeen Emerging Markets Smaller Company Oppo...   \n",
       "\n",
       "   Last Sale  Market Capitalization  IPO Year                 Sector  \\\n",
       "0     1.3300           1.206285e+08       NaN  Consumer Non-Durables   \n",
       "1     5.0000           1.266333e+09    1986.0                    NaN   \n",
       "2     6.1500           1.398653e+08       NaN                    NaN   \n",
       "3     7.2201           6.756346e+07       NaN                    NaN   \n",
       "4    13.3600           1.288430e+08       NaN                    NaN   \n",
       "\n",
       "                Industry Last Update  \n",
       "0  Farming/Seeds/Milling  2017-04-26  \n",
       "1                    NaN  2017-04-25  \n",
       "2                    NaN  2017-04-23  \n",
       "3                    NaN  2017-04-26  \n",
       "4                    NaN  2017-04-25  "
      ]
     },
     "execution_count": 8,
     "metadata": {},
     "output_type": "execute_result"
    }
   ],
   "source": [
    "amex.head()"
   ]
  },
  {
   "cell_type": "code",
   "execution_count": 9,
   "metadata": {},
   "outputs": [],
   "source": [
    "# read data from excel\n",
    "# import data from one sheet"
   ]
  },
  {
   "cell_type": "code",
   "execution_count": 12,
   "metadata": {},
   "outputs": [
    {
     "name": "stdout",
     "output_type": "stream",
     "text": [
      "<class 'pandas.core.frame.DataFrame'>\n",
      "RangeIndex: 360 entries, 0 to 359\n",
      "Data columns (total 7 columns):\n",
      "Stock Symbol             360 non-null object\n",
      "Company Name             360 non-null object\n",
      "Last Sale                346 non-null float64\n",
      "Market Capitalization    360 non-null float64\n",
      "IPO Year                 105 non-null float64\n",
      "Sector                   238 non-null object\n",
      "Industry                 238 non-null object\n",
      "dtypes: float64(3), object(4)\n",
      "memory usage: 19.8+ KB\n"
     ]
    }
   ],
   "source": [
    "amex = pd.read_excel('listings.xlsx', sheetname='amex', na_values='n/a')\n",
    "amex.info()"
   ]
  },
  {
   "cell_type": "code",
   "execution_count": 13,
   "metadata": {},
   "outputs": [],
   "source": [
    "# import data from two sheets"
   ]
  },
  {
   "cell_type": "code",
   "execution_count": 15,
   "metadata": {},
   "outputs": [
    {
     "name": "stdout",
     "output_type": "stream",
     "text": [
      "<class 'pandas.core.frame.DataFrame'>\n",
      "RangeIndex: 3167 entries, 0 to 3166\n",
      "Data columns (total 7 columns):\n",
      "Stock Symbol             3167 non-null object\n",
      "Company Name             3167 non-null object\n",
      "Last Sale                3165 non-null float64\n",
      "Market Capitalization    3167 non-null float64\n",
      "IPO Year                 1386 non-null float64\n",
      "Sector                   2767 non-null object\n",
      "Industry                 2767 non-null object\n",
      "dtypes: float64(3), object(4)\n",
      "memory usage: 173.3+ KB\n"
     ]
    }
   ],
   "source": [
    "listings = pd.read_excel('listings.xlsx', sheetname=['amex', 'nasdaq'], na_values='n/a')\n",
    "listings['nasdaq'].info()"
   ]
  },
  {
   "cell_type": "code",
   "execution_count": null,
   "metadata": {},
   "outputs": [],
   "source": [
    "# get sheet names"
   ]
  },
  {
   "cell_type": "code",
   "execution_count": 16,
   "metadata": {},
   "outputs": [
    {
     "data": {
      "text/plain": [
       "['amex', 'nasdaq', 'nyse']"
      ]
     },
     "execution_count": 16,
     "metadata": {},
     "output_type": "execute_result"
    }
   ],
   "source": [
    "xls = pd.ExcelFile('listings.xlsx')\n",
    "exchanges = xls.sheet_names\n",
    "exchanges"
   ]
  },
  {
   "cell_type": "code",
   "execution_count": 17,
   "metadata": {},
   "outputs": [
    {
     "name": "stdout",
     "output_type": "stream",
     "text": [
      "<class 'pandas.core.frame.DataFrame'>\n",
      "RangeIndex: 3147 entries, 0 to 3146\n",
      "Data columns (total 7 columns):\n",
      "Stock Symbol             3147 non-null object\n",
      "Company Name             3147 non-null object\n",
      "Last Sale                3079 non-null float64\n",
      "Market Capitalization    3147 non-null float64\n",
      "IPO Year                 1361 non-null float64\n",
      "Sector                   2177 non-null object\n",
      "Industry                 2177 non-null object\n",
      "dtypes: float64(3), object(4)\n",
      "memory usage: 172.2+ KB\n"
     ]
    }
   ],
   "source": [
    "nyse = pd.read_excel(xls, sheetname = exchanges[2], na_values='n/a')\n",
    "nyse.info()"
   ]
  },
  {
   "cell_type": "code",
   "execution_count": 18,
   "metadata": {},
   "outputs": [
    {
     "data": {
      "text/html": [
       "<div>\n",
       "<style scoped>\n",
       "    .dataframe tbody tr th:only-of-type {\n",
       "        vertical-align: middle;\n",
       "    }\n",
       "\n",
       "    .dataframe tbody tr th {\n",
       "        vertical-align: top;\n",
       "    }\n",
       "\n",
       "    .dataframe thead th {\n",
       "        text-align: right;\n",
       "    }\n",
       "</style>\n",
       "<table border=\"1\" class=\"dataframe\">\n",
       "  <thead>\n",
       "    <tr style=\"text-align: right;\">\n",
       "      <th></th>\n",
       "      <th>Stock Symbol</th>\n",
       "      <th>Company Name</th>\n",
       "      <th>Last Sale</th>\n",
       "      <th>Market Capitalization</th>\n",
       "      <th>IPO Year</th>\n",
       "      <th>Sector</th>\n",
       "      <th>Industry</th>\n",
       "    </tr>\n",
       "  </thead>\n",
       "  <tbody>\n",
       "    <tr>\n",
       "      <th>0</th>\n",
       "      <td>DDD</td>\n",
       "      <td>3D Systems Corporation</td>\n",
       "      <td>14.48</td>\n",
       "      <td>1.647165e+09</td>\n",
       "      <td>NaN</td>\n",
       "      <td>Technology</td>\n",
       "      <td>Computer Software: Prepackaged Software</td>\n",
       "    </tr>\n",
       "    <tr>\n",
       "      <th>1</th>\n",
       "      <td>MMM</td>\n",
       "      <td>3M Company</td>\n",
       "      <td>188.65</td>\n",
       "      <td>1.127366e+11</td>\n",
       "      <td>NaN</td>\n",
       "      <td>Health Care</td>\n",
       "      <td>Medical/Dental Instruments</td>\n",
       "    </tr>\n",
       "    <tr>\n",
       "      <th>2</th>\n",
       "      <td>WBAI</td>\n",
       "      <td>500.com Limited</td>\n",
       "      <td>13.96</td>\n",
       "      <td>5.793129e+08</td>\n",
       "      <td>2013.0</td>\n",
       "      <td>Consumer Services</td>\n",
       "      <td>Services-Misc. Amusement &amp; Recreation</td>\n",
       "    </tr>\n",
       "    <tr>\n",
       "      <th>3</th>\n",
       "      <td>WUBA</td>\n",
       "      <td>58.com Inc.</td>\n",
       "      <td>36.11</td>\n",
       "      <td>5.225238e+09</td>\n",
       "      <td>2013.0</td>\n",
       "      <td>Technology</td>\n",
       "      <td>Computer Software: Programming, Data Processing</td>\n",
       "    </tr>\n",
       "    <tr>\n",
       "      <th>4</th>\n",
       "      <td>AHC</td>\n",
       "      <td>A.H. Belo Corporation</td>\n",
       "      <td>6.20</td>\n",
       "      <td>1.347351e+08</td>\n",
       "      <td>NaN</td>\n",
       "      <td>Consumer Services</td>\n",
       "      <td>Newspapers/Magazines</td>\n",
       "    </tr>\n",
       "  </tbody>\n",
       "</table>\n",
       "</div>"
      ],
      "text/plain": [
       "  Stock Symbol            Company Name  Last Sale  Market Capitalization  \\\n",
       "0          DDD  3D Systems Corporation      14.48           1.647165e+09   \n",
       "1          MMM              3M Company     188.65           1.127366e+11   \n",
       "2         WBAI         500.com Limited      13.96           5.793129e+08   \n",
       "3         WUBA             58.com Inc.      36.11           5.225238e+09   \n",
       "4          AHC   A.H. Belo Corporation       6.20           1.347351e+08   \n",
       "\n",
       "   IPO Year             Sector  \\\n",
       "0       NaN         Technology   \n",
       "1       NaN        Health Care   \n",
       "2    2013.0  Consumer Services   \n",
       "3    2013.0         Technology   \n",
       "4       NaN  Consumer Services   \n",
       "\n",
       "                                          Industry  \n",
       "0          Computer Software: Prepackaged Software  \n",
       "1                       Medical/Dental Instruments  \n",
       "2            Services-Misc. Amusement & Recreation  \n",
       "3  Computer Software: Programming, Data Processing  \n",
       "4                             Newspapers/Magazines  "
      ]
     },
     "execution_count": 18,
     "metadata": {},
     "output_type": "execute_result"
    }
   ],
   "source": [
    "nyse.head()"
   ]
  },
  {
   "cell_type": "code",
   "execution_count": 19,
   "metadata": {},
   "outputs": [],
   "source": [
    "# combine data from multiple worksheets"
   ]
  },
  {
   "cell_type": "code",
   "execution_count": 20,
   "metadata": {},
   "outputs": [
    {
     "name": "stdout",
     "output_type": "stream",
     "text": [
      "<class 'pandas.core.frame.DataFrame'>\n",
      "Int64Index: 3507 entries, 0 to 3146\n",
      "Data columns (total 7 columns):\n",
      "Stock Symbol             3507 non-null object\n",
      "Company Name             3507 non-null object\n",
      "Last Sale                3425 non-null float64\n",
      "Market Capitalization    3507 non-null float64\n",
      "IPO Year                 1466 non-null float64\n",
      "Sector                   2415 non-null object\n",
      "Industry                 2415 non-null object\n",
      "dtypes: float64(3), object(4)\n",
      "memory usage: 219.2+ KB\n"
     ]
    }
   ],
   "source": [
    "# concatenate two data frames\n",
    "amex = pd.read_excel('listings.xlsx', sheetname = 'amex', na_values='n/a')\n",
    "nyse = pd.read_excel('listings.xlsx', sheetname = 'nyse', na_values='n/a')\n",
    "pd.concat([amex, nyse]).info()"
   ]
  },
  {
   "cell_type": "code",
   "execution_count": 22,
   "metadata": {},
   "outputs": [
    {
     "data": {
      "text/html": [
       "<div>\n",
       "<style scoped>\n",
       "    .dataframe tbody tr th:only-of-type {\n",
       "        vertical-align: middle;\n",
       "    }\n",
       "\n",
       "    .dataframe tbody tr th {\n",
       "        vertical-align: top;\n",
       "    }\n",
       "\n",
       "    .dataframe thead th {\n",
       "        text-align: right;\n",
       "    }\n",
       "</style>\n",
       "<table border=\"1\" class=\"dataframe\">\n",
       "  <thead>\n",
       "    <tr style=\"text-align: right;\">\n",
       "      <th></th>\n",
       "      <th>Stock Symbol</th>\n",
       "      <th>Company Name</th>\n",
       "      <th>Last Sale</th>\n",
       "      <th>Market Capitalization</th>\n",
       "      <th>IPO Year</th>\n",
       "      <th>Sector</th>\n",
       "      <th>Industry</th>\n",
       "      <th>Exchange</th>\n",
       "    </tr>\n",
       "  </thead>\n",
       "  <tbody>\n",
       "    <tr>\n",
       "      <th>0</th>\n",
       "      <td>XXII</td>\n",
       "      <td>22nd Century Group, Inc</td>\n",
       "      <td>1.33</td>\n",
       "      <td>1.206285e+08</td>\n",
       "      <td>NaN</td>\n",
       "      <td>Consumer Non-Durables</td>\n",
       "      <td>Farming/Seeds/Milling</td>\n",
       "      <td>AMEX</td>\n",
       "    </tr>\n",
       "    <tr>\n",
       "      <th>1</th>\n",
       "      <td>FAX</td>\n",
       "      <td>Aberdeen Asia-Pacific Income Fund Inc</td>\n",
       "      <td>5.00</td>\n",
       "      <td>1.266333e+09</td>\n",
       "      <td>1986.0</td>\n",
       "      <td>NaN</td>\n",
       "      <td>NaN</td>\n",
       "      <td>AMEX</td>\n",
       "    </tr>\n",
       "  </tbody>\n",
       "</table>\n",
       "</div>"
      ],
      "text/plain": [
       "  Stock Symbol                           Company Name  Last Sale  \\\n",
       "0         XXII                22nd Century Group, Inc       1.33   \n",
       "1          FAX  Aberdeen Asia-Pacific Income Fund Inc       5.00   \n",
       "\n",
       "   Market Capitalization  IPO Year                 Sector  \\\n",
       "0           1.206285e+08       NaN  Consumer Non-Durables   \n",
       "1           1.266333e+09    1986.0                    NaN   \n",
       "\n",
       "                Industry Exchange  \n",
       "0  Farming/Seeds/Milling     AMEX  \n",
       "1                    NaN     AMEX  "
      ]
     },
     "execution_count": 22,
     "metadata": {},
     "output_type": "execute_result"
    }
   ],
   "source": [
    "# add a reference column\n",
    "amex['Exchange'] = 'AMEX'\n",
    "nyse['Exchange'] = 'NYSE'\n",
    "listings = pd.concat([amex, nyse])\n",
    "listings.head(2)"
   ]
  },
  {
   "cell_type": "code",
   "execution_count": 24,
   "metadata": {},
   "outputs": [
    {
     "name": "stdout",
     "output_type": "stream",
     "text": [
      "<class 'pandas.core.frame.DataFrame'>\n",
      "Int64Index: 6674 entries, 0 to 3146\n",
      "Data columns (total 8 columns):\n",
      "Stock Symbol             6674 non-null object\n",
      "Company Name             6674 non-null object\n",
      "Last Sale                6590 non-null float64\n",
      "Market Capitalization    6674 non-null float64\n",
      "IPO Year                 2852 non-null float64\n",
      "Sector                   5182 non-null object\n",
      "Industry                 5182 non-null object\n",
      "Exchange                 6674 non-null object\n",
      "dtypes: float64(3), object(5)\n",
      "memory usage: 469.3+ KB\n"
     ]
    }
   ],
   "source": [
    "# combine three data frames\n",
    "xls = pd.ExcelFile('listings.xlsx')\n",
    "exchanges = xls.sheet_names\n",
    "listings = []\n",
    "for exchange in exchanges:\n",
    "    listing = pd.read_excel(xls, sheetname = exchange)\n",
    "    listing['Exchange'] = exchange\n",
    "    listings.append(listing)\n",
    "    \n",
    "combined_listings = pd.concat(listings)\n",
    "combined_listings.info()"
   ]
  }
 ],
 "metadata": {
  "kernelspec": {
   "display_name": "Python 3",
   "language": "python",
   "name": "python3"
  },
  "language_info": {
   "codemirror_mode": {
    "name": "ipython",
    "version": 3
   },
   "file_extension": ".py",
   "mimetype": "text/x-python",
   "name": "python",
   "nbconvert_exporter": "python",
   "pygments_lexer": "ipython3",
   "version": "3.5.5"
  }
 },
 "nbformat": 4,
 "nbformat_minor": 2
}
