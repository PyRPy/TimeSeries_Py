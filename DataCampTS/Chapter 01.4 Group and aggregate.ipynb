{
 "cells": [
  {
   "cell_type": "code",
   "execution_count": 20,
   "metadata": {},
   "outputs": [],
   "source": [
    "import pandas as pd\n",
    "import numpy as np\n",
    "import matplotlib\n",
    "import matplotlib.pyplot as plt\n",
    "matplotlib.style.use('ggplot')\n",
    "import seaborn as sns\n",
    "import warnings\n",
    "warnings.filterwarnings(\"ignore\")"
   ]
  },
  {
   "cell_type": "code",
   "execution_count": 2,
   "metadata": {},
   "outputs": [],
   "source": [
    "nasdaq = pd.read_excel('Data/listings.xlsx', sheetname = 'nasdaq', na_value = 'n/a')\n",
    "market_cap = nasdaq['Market Capitalization'].div(10**6)"
   ]
  },
  {
   "cell_type": "code",
   "execution_count": 3,
   "metadata": {},
   "outputs": [
    {
     "name": "stdout",
     "output_type": "stream",
     "text": [
      "<class 'pandas.core.frame.DataFrame'>\n",
      "RangeIndex: 3167 entries, 0 to 3166\n",
      "Data columns (total 7 columns):\n",
      "Stock Symbol             3167 non-null object\n",
      "Company Name             3167 non-null object\n",
      "Last Sale                3165 non-null float64\n",
      "Market Capitalization    3167 non-null float64\n",
      "IPO Year                 1386 non-null float64\n",
      "Sector                   2767 non-null object\n",
      "Industry                 2767 non-null object\n",
      "dtypes: float64(3), object(4)\n",
      "memory usage: 173.3+ KB\n"
     ]
    }
   ],
   "source": [
    "nasdaq.info()"
   ]
  },
  {
   "cell_type": "code",
   "execution_count": 4,
   "metadata": {},
   "outputs": [],
   "source": [
    "# group data by sector\n",
    "nasdaq['market_cap_m'] = nasdaq['Market Capitalization'].div(1e6)\n",
    "nasdaq = nasdaq.drop('Market Capitalization', axis=1)\n",
    "nasdaq_by_sector = nasdaq.groupby('Sector')"
   ]
  },
  {
   "cell_type": "code",
   "execution_count": 5,
   "metadata": {},
   "outputs": [
    {
     "name": "stdout",
     "output_type": "stream",
     "text": [
      "Basic Industries 724.8999338580089\n",
      "Capital Goods 1511.2373727809977\n",
      "Consumer Durables 839.8026066270024\n",
      "Consumer Non-Durables 3104.0512055241347\n",
      "Consumer Services 5582.34417481941\n",
      "Energy 826.6076078547273\n",
      "Finance 1044.090204799632\n",
      "Health Care 1758.709196756267\n",
      "Miscellaneous 3445.6559345579662\n",
      "Public Utilities 2357.865315073336\n",
      "Technology 10883.434213546776\n",
      "Transportation 2869.660006726413\n"
     ]
    }
   ],
   "source": [
    "for sector, data in nasdaq_by_sector:\n",
    "    print(sector, data.market_cap_m.mean())"
   ]
  },
  {
   "cell_type": "code",
   "execution_count": 6,
   "metadata": {},
   "outputs": [
    {
     "data": {
      "text/plain": [
       "Sector\n",
       "Basic Industries           724.899934\n",
       "Capital Goods             1511.237373\n",
       "Consumer Durables          839.802607\n",
       "Consumer Non-Durables     3104.051206\n",
       "Consumer Services         5582.344175\n",
       "Energy                     826.607608\n",
       "Finance                   1044.090205\n",
       "Health Care               1758.709197\n",
       "Miscellaneous             3445.655935\n",
       "Public Utilities          2357.865315\n",
       "Technology               10883.434214\n",
       "Transportation            2869.660007\n",
       "Name: market_cap_m, dtype: float64"
      ]
     },
     "execution_count": 6,
     "metadata": {},
     "output_type": "execute_result"
    }
   ],
   "source": [
    "# skip the loop\n",
    "mcap_by_sector = nasdaq_by_sector.market_cap_m.mean()\n",
    "mcap_by_sector"
   ]
  },
  {
   "cell_type": "code",
   "execution_count": 7,
   "metadata": {},
   "outputs": [],
   "source": [
    "# plot categorical variables"
   ]
  },
  {
   "cell_type": "code",
   "execution_count": 8,
   "metadata": {},
   "outputs": [
    {
     "data": {
      "text/plain": [
       "Text(0.5,0,'USD mn')"
      ]
     },
     "execution_count": 8,
     "metadata": {},
     "output_type": "execute_result"
    },
    {
     "data": {
      "image/png": "[encoded data removed]",
      "text/plain": [
       "<Figure size 432x288 with 1 Axes>"
      ]
     },
     "metadata": {},
     "output_type": "display_data"
    }
   ],
   "source": [
    "title = 'NSDAQ = Avg. Market Cap by Sector'\n",
    "mcap_by_sector.plot(kind = 'barh', title = title)\n",
    "plt.xlabel('USD mn')"
   ]
  },
  {
   "cell_type": "code",
   "execution_count": 9,
   "metadata": {},
   "outputs": [
    {
     "data": {
      "text/html": [
       "<div>\n",
       "<style scoped>\n",
       "    .dataframe tbody tr th:only-of-type {\n",
       "        vertical-align: middle;\n",
       "    }\n",
       "\n",
       "    .dataframe tbody tr th {\n",
       "        vertical-align: top;\n",
       "    }\n",
       "\n",
       "    .dataframe thead th {\n",
       "        text-align: right;\n",
       "    }\n",
       "</style>\n",
       "<table border=\"1\" class=\"dataframe\">\n",
       "  <thead>\n",
       "    <tr style=\"text-align: right;\">\n",
       "      <th></th>\n",
       "      <th>Last Sale</th>\n",
       "      <th>IPO Year</th>\n",
       "      <th>market_cap_m</th>\n",
       "    </tr>\n",
       "    <tr>\n",
       "      <th>Sector</th>\n",
       "      <th></th>\n",
       "      <th></th>\n",
       "      <th></th>\n",
       "    </tr>\n",
       "  </thead>\n",
       "  <tbody>\n",
       "    <tr>\n",
       "      <th>Basic Industries</th>\n",
       "      <td>21.597679</td>\n",
       "      <td>2000.766667</td>\n",
       "      <td>724.899934</td>\n",
       "    </tr>\n",
       "    <tr>\n",
       "      <th>Capital Goods</th>\n",
       "      <td>26.188681</td>\n",
       "      <td>2001.324675</td>\n",
       "      <td>1511.237373</td>\n",
       "    </tr>\n",
       "    <tr>\n",
       "      <th>Consumer Durables</th>\n",
       "      <td>24.363391</td>\n",
       "      <td>2003.222222</td>\n",
       "      <td>839.802607</td>\n",
       "    </tr>\n",
       "    <tr>\n",
       "      <th>Consumer Non-Durables</th>\n",
       "      <td>25.749565</td>\n",
       "      <td>2000.609756</td>\n",
       "      <td>3104.051206</td>\n",
       "    </tr>\n",
       "    <tr>\n",
       "      <th>Consumer Services</th>\n",
       "      <td>34.917318</td>\n",
       "      <td>2004.104575</td>\n",
       "      <td>5582.344175</td>\n",
       "    </tr>\n",
       "    <tr>\n",
       "      <th>Energy</th>\n",
       "      <td>15.496834</td>\n",
       "      <td>2008.034483</td>\n",
       "      <td>826.607608</td>\n",
       "    </tr>\n",
       "    <tr>\n",
       "      <th>Finance</th>\n",
       "      <td>29.644242</td>\n",
       "      <td>2010.321101</td>\n",
       "      <td>1044.090205</td>\n",
       "    </tr>\n",
       "    <tr>\n",
       "      <th>Health Care</th>\n",
       "      <td>19.462531</td>\n",
       "      <td>2009.240409</td>\n",
       "      <td>1758.709197</td>\n",
       "    </tr>\n",
       "    <tr>\n",
       "      <th>Miscellaneous</th>\n",
       "      <td>46.094369</td>\n",
       "      <td>2004.333333</td>\n",
       "      <td>3445.655935</td>\n",
       "    </tr>\n",
       "    <tr>\n",
       "      <th>Public Utilities</th>\n",
       "      <td>18.643705</td>\n",
       "      <td>2006.040000</td>\n",
       "      <td>2357.865315</td>\n",
       "    </tr>\n",
       "    <tr>\n",
       "      <th>Technology</th>\n",
       "      <td>31.100317</td>\n",
       "      <td>2002.653285</td>\n",
       "      <td>10883.434214</td>\n",
       "    </tr>\n",
       "    <tr>\n",
       "      <th>Transportation</th>\n",
       "      <td>28.096758</td>\n",
       "      <td>1997.809524</td>\n",
       "      <td>2869.660007</td>\n",
       "    </tr>\n",
       "  </tbody>\n",
       "</table>\n",
       "</div>"
      ],
      "text/plain": [
       "                       Last Sale     IPO Year  market_cap_m\n",
       "Sector                                                     \n",
       "Basic Industries       21.597679  2000.766667    724.899934\n",
       "Capital Goods          26.188681  2001.324675   1511.237373\n",
       "Consumer Durables      24.363391  2003.222222    839.802607\n",
       "Consumer Non-Durables  25.749565  2000.609756   3104.051206\n",
       "Consumer Services      34.917318  2004.104575   5582.344175\n",
       "Energy                 15.496834  2008.034483    826.607608\n",
       "Finance                29.644242  2010.321101   1044.090205\n",
       "Health Care            19.462531  2009.240409   1758.709197\n",
       "Miscellaneous          46.094369  2004.333333   3445.655935\n",
       "Public Utilities       18.643705  2006.040000   2357.865315\n",
       "Technology             31.100317  2002.653285  10883.434214\n",
       "Transportation         28.096758  1997.809524   2869.660007"
      ]
     },
     "execution_count": 9,
     "metadata": {},
     "output_type": "execute_result"
    }
   ],
   "source": [
    "# summary for all numeric columns\n",
    "nasdaq_by_sector.mean()"
   ]
  },
  {
   "cell_type": "code",
   "execution_count": 11,
   "metadata": {},
   "outputs": [
    {
     "data": {
      "text/html": [
       "<div>\n",
       "<style scoped>\n",
       "    .dataframe tbody tr th:only-of-type {\n",
       "        vertical-align: middle;\n",
       "    }\n",
       "\n",
       "    .dataframe tbody tr th {\n",
       "        vertical-align: top;\n",
       "    }\n",
       "\n",
       "    .dataframe thead th {\n",
       "        text-align: right;\n",
       "    }\n",
       "</style>\n",
       "<table border=\"1\" class=\"dataframe\">\n",
       "  <thead>\n",
       "    <tr style=\"text-align: right;\">\n",
       "      <th></th>\n",
       "      <th>size</th>\n",
       "      <th>mean</th>\n",
       "    </tr>\n",
       "    <tr>\n",
       "      <th>Sector</th>\n",
       "      <th></th>\n",
       "      <th></th>\n",
       "    </tr>\n",
       "  </thead>\n",
       "  <tbody>\n",
       "    <tr>\n",
       "      <th>Transportation</th>\n",
       "      <td>52</td>\n",
       "      <td>2869.660007</td>\n",
       "    </tr>\n",
       "    <tr>\n",
       "      <th>Energy</th>\n",
       "      <td>66</td>\n",
       "      <td>826.607608</td>\n",
       "    </tr>\n",
       "    <tr>\n",
       "      <th>Public Utilities</th>\n",
       "      <td>66</td>\n",
       "      <td>2357.865315</td>\n",
       "    </tr>\n",
       "    <tr>\n",
       "      <th>Basic Industries</th>\n",
       "      <td>78</td>\n",
       "      <td>724.899934</td>\n",
       "    </tr>\n",
       "    <tr>\n",
       "      <th>Consumer Durables</th>\n",
       "      <td>88</td>\n",
       "      <td>839.802607</td>\n",
       "    </tr>\n",
       "    <tr>\n",
       "      <th>Miscellaneous</th>\n",
       "      <td>89</td>\n",
       "      <td>3445.655935</td>\n",
       "    </tr>\n",
       "    <tr>\n",
       "      <th>Consumer Non-Durables</th>\n",
       "      <td>103</td>\n",
       "      <td>3104.051206</td>\n",
       "    </tr>\n",
       "    <tr>\n",
       "      <th>Capital Goods</th>\n",
       "      <td>172</td>\n",
       "      <td>1511.237373</td>\n",
       "    </tr>\n",
       "    <tr>\n",
       "      <th>Consumer Services</th>\n",
       "      <td>348</td>\n",
       "      <td>5582.344175</td>\n",
       "    </tr>\n",
       "    <tr>\n",
       "      <th>Technology</th>\n",
       "      <td>433</td>\n",
       "      <td>10883.434214</td>\n",
       "    </tr>\n",
       "    <tr>\n",
       "      <th>Finance</th>\n",
       "      <td>627</td>\n",
       "      <td>1044.090205</td>\n",
       "    </tr>\n",
       "    <tr>\n",
       "      <th>Health Care</th>\n",
       "      <td>645</td>\n",
       "      <td>1758.709197</td>\n",
       "    </tr>\n",
       "  </tbody>\n",
       "</table>\n",
       "</div>"
      ],
      "text/plain": [
       "                       size          mean\n",
       "Sector                                   \n",
       "Transportation           52   2869.660007\n",
       "Energy                   66    826.607608\n",
       "Public Utilities         66   2357.865315\n",
       "Basic Industries         78    724.899934\n",
       "Consumer Durables        88    839.802607\n",
       "Miscellaneous            89   3445.655935\n",
       "Consumer Non-Durables   103   3104.051206\n",
       "Capital Goods           172   1511.237373\n",
       "Consumer Services       348   5582.344175\n",
       "Technology              433  10883.434214\n",
       "Finance                 627   1044.090205\n",
       "Health Care             645   1758.709197"
      ]
     },
     "execution_count": 11,
     "metadata": {},
     "output_type": "execute_result"
    }
   ],
   "source": [
    "# more on aggregate\n",
    "nasdaq = pd.read_excel('Data/listings.xlsx', sheetname = 'nasdaq', na_value = 'n/a')\n",
    "nasdaq['market_cap_m'] = nasdaq['Market Capitalization'].div(1e6)\n",
    "by_sector = nasdaq.groupby('Sector')\n",
    "by_sector.market_cap_m.agg(['size', 'mean']).sort_values('size')"
   ]
  },
  {
   "cell_type": "code",
   "execution_count": 12,
   "metadata": {},
   "outputs": [
    {
     "data": {
      "text/html": [
       "<div>\n",
       "<style scoped>\n",
       "    .dataframe tbody tr th:only-of-type {\n",
       "        vertical-align: middle;\n",
       "    }\n",
       "\n",
       "    .dataframe tbody tr th {\n",
       "        vertical-align: top;\n",
       "    }\n",
       "\n",
       "    .dataframe thead th {\n",
       "        text-align: right;\n",
       "    }\n",
       "</style>\n",
       "<table border=\"1\" class=\"dataframe\">\n",
       "  <thead>\n",
       "    <tr style=\"text-align: right;\">\n",
       "      <th></th>\n",
       "      <th>#Obs</th>\n",
       "      <th>Average</th>\n",
       "    </tr>\n",
       "    <tr>\n",
       "      <th>Sector</th>\n",
       "      <th></th>\n",
       "      <th></th>\n",
       "    </tr>\n",
       "  </thead>\n",
       "  <tbody>\n",
       "    <tr>\n",
       "      <th>Basic Industries</th>\n",
       "      <td>78</td>\n",
       "      <td>724.899934</td>\n",
       "    </tr>\n",
       "    <tr>\n",
       "      <th>Capital Goods</th>\n",
       "      <td>172</td>\n",
       "      <td>1511.237373</td>\n",
       "    </tr>\n",
       "    <tr>\n",
       "      <th>Consumer Durables</th>\n",
       "      <td>88</td>\n",
       "      <td>839.802607</td>\n",
       "    </tr>\n",
       "    <tr>\n",
       "      <th>Consumer Non-Durables</th>\n",
       "      <td>103</td>\n",
       "      <td>3104.051206</td>\n",
       "    </tr>\n",
       "    <tr>\n",
       "      <th>Consumer Services</th>\n",
       "      <td>348</td>\n",
       "      <td>5582.344175</td>\n",
       "    </tr>\n",
       "    <tr>\n",
       "      <th>Energy</th>\n",
       "      <td>66</td>\n",
       "      <td>826.607608</td>\n",
       "    </tr>\n",
       "    <tr>\n",
       "      <th>Finance</th>\n",
       "      <td>627</td>\n",
       "      <td>1044.090205</td>\n",
       "    </tr>\n",
       "    <tr>\n",
       "      <th>Health Care</th>\n",
       "      <td>645</td>\n",
       "      <td>1758.709197</td>\n",
       "    </tr>\n",
       "    <tr>\n",
       "      <th>Miscellaneous</th>\n",
       "      <td>89</td>\n",
       "      <td>3445.655935</td>\n",
       "    </tr>\n",
       "    <tr>\n",
       "      <th>Public Utilities</th>\n",
       "      <td>66</td>\n",
       "      <td>2357.865315</td>\n",
       "    </tr>\n",
       "    <tr>\n",
       "      <th>Technology</th>\n",
       "      <td>433</td>\n",
       "      <td>10883.434214</td>\n",
       "    </tr>\n",
       "    <tr>\n",
       "      <th>Transportation</th>\n",
       "      <td>52</td>\n",
       "      <td>2869.660007</td>\n",
       "    </tr>\n",
       "  </tbody>\n",
       "</table>\n",
       "</div>"
      ],
      "text/plain": [
       "                       #Obs       Average\n",
       "Sector                                   \n",
       "Basic Industries         78    724.899934\n",
       "Capital Goods           172   1511.237373\n",
       "Consumer Durables        88    839.802607\n",
       "Consumer Non-Durables   103   3104.051206\n",
       "Consumer Services       348   5582.344175\n",
       "Energy                   66    826.607608\n",
       "Finance                 627   1044.090205\n",
       "Health Care             645   1758.709197\n",
       "Miscellaneous            89   3445.655935\n",
       "Public Utilities         66   2357.865315\n",
       "Technology              433  10883.434214\n",
       "Transportation           52   2869.660007"
      ]
     },
     "execution_count": 12,
     "metadata": {},
     "output_type": "execute_result"
    }
   ],
   "source": [
    "# several agg plut new labels\n",
    "by_sector.market_cap_m.agg({'#Obs':'size', 'Average':'mean'})"
   ]
  },
  {
   "cell_type": "code",
   "execution_count": 13,
   "metadata": {},
   "outputs": [
    {
     "data": {
      "text/html": [
       "<div>\n",
       "<style scoped>\n",
       "    .dataframe tbody tr th:only-of-type {\n",
       "        vertical-align: middle;\n",
       "    }\n",
       "\n",
       "    .dataframe tbody tr th {\n",
       "        vertical-align: top;\n",
       "    }\n",
       "\n",
       "    .dataframe thead th {\n",
       "        text-align: right;\n",
       "    }\n",
       "</style>\n",
       "<table border=\"1\" class=\"dataframe\">\n",
       "  <thead>\n",
       "    <tr style=\"text-align: right;\">\n",
       "      <th></th>\n",
       "      <th>IPO Year</th>\n",
       "      <th>market_cap_m</th>\n",
       "    </tr>\n",
       "    <tr>\n",
       "      <th>Sector</th>\n",
       "      <th></th>\n",
       "      <th></th>\n",
       "    </tr>\n",
       "  </thead>\n",
       "  <tbody>\n",
       "    <tr>\n",
       "      <th>Basic Industries</th>\n",
       "      <td>1996.5</td>\n",
       "      <td>78</td>\n",
       "    </tr>\n",
       "    <tr>\n",
       "      <th>Capital Goods</th>\n",
       "      <td>2000.0</td>\n",
       "      <td>172</td>\n",
       "    </tr>\n",
       "    <tr>\n",
       "      <th>Consumer Durables</th>\n",
       "      <td>2002.5</td>\n",
       "      <td>88</td>\n",
       "    </tr>\n",
       "    <tr>\n",
       "      <th>Consumer Non-Durables</th>\n",
       "      <td>1998.0</td>\n",
       "      <td>103</td>\n",
       "    </tr>\n",
       "    <tr>\n",
       "      <th>Consumer Services</th>\n",
       "      <td>2005.0</td>\n",
       "      <td>348</td>\n",
       "    </tr>\n",
       "    <tr>\n",
       "      <th>Energy</th>\n",
       "      <td>2011.0</td>\n",
       "      <td>66</td>\n",
       "    </tr>\n",
       "    <tr>\n",
       "      <th>Finance</th>\n",
       "      <td>2014.0</td>\n",
       "      <td>627</td>\n",
       "    </tr>\n",
       "    <tr>\n",
       "      <th>Health Care</th>\n",
       "      <td>2014.0</td>\n",
       "      <td>645</td>\n",
       "    </tr>\n",
       "    <tr>\n",
       "      <th>Miscellaneous</th>\n",
       "      <td>2005.0</td>\n",
       "      <td>89</td>\n",
       "    </tr>\n",
       "    <tr>\n",
       "      <th>Public Utilities</th>\n",
       "      <td>2007.0</td>\n",
       "      <td>66</td>\n",
       "    </tr>\n",
       "    <tr>\n",
       "      <th>Technology</th>\n",
       "      <td>2001.5</td>\n",
       "      <td>433</td>\n",
       "    </tr>\n",
       "    <tr>\n",
       "      <th>Transportation</th>\n",
       "      <td>1997.0</td>\n",
       "      <td>52</td>\n",
       "    </tr>\n",
       "  </tbody>\n",
       "</table>\n",
       "</div>"
      ],
      "text/plain": [
       "                       IPO Year  market_cap_m\n",
       "Sector                                       \n",
       "Basic Industries         1996.5            78\n",
       "Capital Goods            2000.0           172\n",
       "Consumer Durables        2002.5            88\n",
       "Consumer Non-Durables    1998.0           103\n",
       "Consumer Services        2005.0           348\n",
       "Energy                   2011.0            66\n",
       "Finance                  2014.0           627\n",
       "Health Care              2014.0           645\n",
       "Miscellaneous            2005.0            89\n",
       "Public Utilities         2007.0            66\n",
       "Technology               2001.5           433\n",
       "Transportation           1997.0            52"
      ]
     },
     "execution_count": 13,
     "metadata": {},
     "output_type": "execute_result"
    }
   ],
   "source": [
    "# different stats by column\n",
    "by_sector.agg({'market_cap_m': 'size', 'IPO Year':'median'})"
   ]
  },
  {
   "cell_type": "code",
   "execution_count": 14,
   "metadata": {},
   "outputs": [
    {
     "data": {
      "text/plain": [
       "Sector            IPO Year\n",
       "Basic Industries  1972.0        877.240005\n",
       "                  1973.0       1445.697371\n",
       "                  1986.0       1396.817381\n",
       "                  1988.0         24.847526\n",
       "                  1990.0        434.808483\n",
       "                  1991.0          9.338401\n",
       "                  1992.0        160.416661\n",
       "                  1993.0       1933.224036\n",
       "                  1994.0        163.267514\n",
       "                  1995.0        125.342784\n",
       "                  1996.0       4087.508427\n",
       "                  1997.0         20.754774\n",
       "                  2008.0        331.370813\n",
       "                  2010.0        120.296167\n",
       "                  2011.0         35.498729\n",
       "                  2012.0        381.796074\n",
       "                  2013.0         22.661533\n",
       "                  2015.0        260.075564\n",
       "                  2016.0         81.288336\n",
       "Capital Goods     1972.0        889.230257\n",
       "                  1980.0      14941.006076\n",
       "                  1981.0         38.632877\n",
       "                  1983.0          7.735259\n",
       "                  1984.0        707.111689\n",
       "                  1986.0       1383.223861\n",
       "                  1987.0       1065.536401\n",
       "                  1989.0       6917.217531\n",
       "                  1990.0       7698.847242\n",
       "                  1991.0        294.231907\n",
       "                  1992.0        529.163207\n",
       "                                  ...     \n",
       "Technology        2002.0       4693.036311\n",
       "                  2003.0        703.916963\n",
       "                  2004.0      96406.278619\n",
       "                  2005.0      12550.881696\n",
       "                  2006.0       1611.467106\n",
       "                  2007.0        992.937074\n",
       "                  2008.0        433.736504\n",
       "                  2009.0      21702.013298\n",
       "                  2010.0       4449.380757\n",
       "                  2011.0       2119.157708\n",
       "                  2012.0      35269.774812\n",
       "                  2013.0       1928.917055\n",
       "                  2014.0       1808.608848\n",
       "                  2015.0       1747.667392\n",
       "                  2016.0        641.782956\n",
       "                  2017.0       1781.683772\n",
       "Transportation    1986.0       1176.179710\n",
       "                  1991.0       6646.778622\n",
       "                  1992.0         56.074572\n",
       "                  1993.0       3474.796885\n",
       "                  1994.0        319.911130\n",
       "                  1996.0       1329.873667\n",
       "                  1997.0       9681.791865\n",
       "                  2002.0       6914.854068\n",
       "                  2005.0         83.516330\n",
       "                  2006.0       1397.129447\n",
       "                  2007.0        413.900806\n",
       "                  2009.0        552.445919\n",
       "                  2011.0       3711.638317\n",
       "                  2013.0        125.740421\n",
       "Name: market_cap_m, Length: 280, dtype: float64"
      ]
     },
     "execution_count": 14,
     "metadata": {},
     "output_type": "execute_result"
    }
   ],
   "source": [
    "# agg by two categorical variables\n",
    "by_sector_year = nasdaq.groupby(['Sector', 'IPO Year'])\n",
    "by_sector_year.market_cap_m.mean()"
   ]
  },
  {
   "cell_type": "code",
   "execution_count": 16,
   "metadata": {},
   "outputs": [
    {
     "data": {
      "text/plain": [
       "IPO Year\n",
       "1972.0     877.240005\n",
       "1973.0    1445.697371\n",
       "1986.0    1396.817381\n",
       "1988.0      24.847526\n",
       "1990.0     434.808483\n",
       "1991.0       9.338401\n",
       "1992.0     160.416661\n",
       "1993.0    1933.224036\n",
       "1994.0     163.267514\n",
       "1995.0     125.342784\n",
       "1996.0    4087.508427\n",
       "1997.0      20.754774\n",
       "2008.0     331.370813\n",
       "2010.0     120.296167\n",
       "2011.0      35.498729\n",
       "2012.0     381.796074\n",
       "2013.0      22.661533\n",
       "2015.0     260.075564\n",
       "2016.0      81.288336\n",
       "Name: market_cap_m, dtype: float64"
      ]
     },
     "execution_count": 16,
     "metadata": {},
     "output_type": "execute_result"
    }
   ],
   "source": [
    "# use MultiIndex\n",
    "mcap_sector_year = by_sector_year.market_cap_m.mean()\n",
    "mcap_sector_year.loc['Basic Industries']"
   ]
  },
  {
   "cell_type": "code",
   "execution_count": 17,
   "metadata": {},
   "outputs": [
    {
     "data": {
      "text/plain": [
       "Sector            IPO Year\n",
       "Basic Industries  1972.0       877.240005\n",
       "                  1973.0      1445.697371\n",
       "                  1986.0      1396.817381\n",
       "                  1988.0        24.847526\n",
       "                  1990.0       434.808483\n",
       "                  1991.0         9.338401\n",
       "                  1992.0       160.416661\n",
       "                  1993.0      1933.224036\n",
       "                  1994.0       163.267514\n",
       "                  1995.0       125.342784\n",
       "                  1996.0      4087.508427\n",
       "                  1997.0        20.754774\n",
       "                  2008.0       331.370813\n",
       "                  2010.0       120.296167\n",
       "                  2011.0        35.498729\n",
       "                  2012.0       381.796074\n",
       "                  2013.0        22.661533\n",
       "                  2015.0       260.075564\n",
       "                  2016.0        81.288336\n",
       "Transportation    1986.0      1176.179710\n",
       "                  1991.0      6646.778622\n",
       "                  1992.0        56.074572\n",
       "                  1993.0      3474.796885\n",
       "                  1994.0       319.911130\n",
       "                  1996.0      1329.873667\n",
       "                  1997.0      9681.791865\n",
       "                  2002.0      6914.854068\n",
       "                  2005.0        83.516330\n",
       "                  2006.0      1397.129447\n",
       "                  2007.0       413.900806\n",
       "                  2009.0       552.445919\n",
       "                  2011.0      3711.638317\n",
       "                  2013.0       125.740421\n",
       "Name: market_cap_m, dtype: float64"
      ]
     },
     "execution_count": 17,
     "metadata": {},
     "output_type": "execute_result"
    }
   ],
   "source": [
    "mcap_sector_year.loc[['Basic Industries', 'Transportation']]"
   ]
  },
  {
   "cell_type": "code",
   "execution_count": 18,
   "metadata": {},
   "outputs": [],
   "source": [
    "# use seaborn"
   ]
  },
  {
   "cell_type": "code",
   "execution_count": 21,
   "metadata": {},
   "outputs": [
    {
     "data": {
      "text/plain": [
       "(array([ 0,  1,  2,  3,  4,  5,  6,  7,  8,  9, 10, 11]),\n",
       " <a list of 12 Text xticklabel objects>)"
      ]
     },
     "execution_count": 21,
     "metadata": {},
     "output_type": "execute_result"
    },
    {
     "data": {
      "image/png": "[encoded data removed]",
      "text/plain": [
       "<Figure size 432x288 with 1 Axes>"
      ]
     },
     "metadata": {},
     "output_type": "display_data"
    }
   ],
   "source": [
    "nasdaq = pd.read_excel('Data/listings.xlsx', sheetname = 'nasdaq', na_value = 'n/a')\n",
    "sns.countplot(x='Sector', data = nasdaq)\n",
    "plt.xticks(rotation = 45)"
   ]
  },
  {
   "cell_type": "code",
   "execution_count": 22,
   "metadata": {},
   "outputs": [
    {
     "data": {
      "text/plain": [
       "Sector\n",
       "Health Care          645\n",
       "Finance              627\n",
       "Technology           433\n",
       "Consumer Services    348\n",
       "Capital Goods        172\n",
       "dtype: int64"
      ]
     },
     "execution_count": 22,
     "metadata": {},
     "output_type": "execute_result"
    }
   ],
   "source": [
    "# sorted countplot\n",
    "sector_size = nasdaq.groupby('Sector').size()\n",
    "order = sector_size.sort_values(ascending=False)\n",
    "order.head()"
   ]
  },
  {
   "cell_type": "code",
   "execution_count": 23,
   "metadata": {},
   "outputs": [],
   "source": [
    "order = order.index.tolist()"
   ]
  },
  {
   "cell_type": "code",
   "execution_count": 24,
   "metadata": {},
   "outputs": [
    {
     "data": {
      "text/plain": [
       "Text(0.5,1,'# obs per sector')"
      ]
     },
     "execution_count": 24,
     "metadata": {},
     "output_type": "execute_result"
    },
    {
     "data": {
      "image/png": "[encoded data removed]",
      "text/plain": [
       "<Figure size 432x288 with 1 Axes>"
      ]
     },
     "metadata": {},
     "output_type": "display_data"
    }
   ],
   "source": [
    "sns.countplot(x='Sector', data=nasdaq, order=order)\n",
    "plt.xticks(rotation=45)\n",
    "plt.title('# obs per sector')"
   ]
  },
  {
   "cell_type": "code",
   "execution_count": null,
   "metadata": {},
   "outputs": [],
   "source": []
  }
 ],
 "metadata": {
  "kernelspec": {
   "display_name": "Python 3",
   "language": "python",
   "name": "python3"
  },
  "language_info": {
   "codemirror_mode": {
    "name": "ipython",
    "version": 3
   },
   "file_extension": ".py",
   "mimetype": "text/x-python",
   "name": "python",
   "nbconvert_exporter": "python",
   "pygments_lexer": "ipython3",
   "version": "3.5.5"
  }
 },
 "nbformat": 4,
 "nbformat_minor": 2
}
