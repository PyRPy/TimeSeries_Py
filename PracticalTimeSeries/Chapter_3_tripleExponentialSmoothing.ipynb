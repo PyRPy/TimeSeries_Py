{
 "cells": [
  {
   "cell_type": "code",
   "execution_count": 1,
   "metadata": {},
   "outputs": [],
   "source": [
    "# Load modules\n",
    "from __future__ import print_function\n",
    "import os\n",
    "import pandas as pd\n",
    "import numpy as np\n",
    "from matplotlib import pyplot as plt"
   ]
  },
  {
   "cell_type": "code",
   "execution_count": 2,
   "metadata": {},
   "outputs": [],
   "source": [
    "#read the data from into a pandas.DataFrame\n",
    "wisc_emp = pd.read_csv('Data/wisconsin-employment-time-series.csv')"
   ]
  },
  {
   "cell_type": "code",
   "execution_count": 3,
   "metadata": {},
   "outputs": [
    {
     "name": "stdout",
     "output_type": "stream",
     "text": [
      "Shape of the DataFrame: (178, 2)\n"
     ]
    }
   ],
   "source": [
    "#Let's find out the shape of the DataFrame\n",
    "print('Shape of the DataFrame:', wisc_emp.shape)"
   ]
  },
  {
   "cell_type": "code",
   "execution_count": 4,
   "metadata": {},
   "outputs": [
    {
     "data": {
      "text/html": [
       "<div>\n",
       "<style scoped>\n",
       "    .dataframe tbody tr th:only-of-type {\n",
       "        vertical-align: middle;\n",
       "    }\n",
       "\n",
       "    .dataframe tbody tr th {\n",
       "        vertical-align: top;\n",
       "    }\n",
       "\n",
       "    .dataframe thead th {\n",
       "        text-align: right;\n",
       "    }\n",
       "</style>\n",
       "<table border=\"1\" class=\"dataframe\">\n",
       "  <thead>\n",
       "    <tr style=\"text-align: right;\">\n",
       "      <th></th>\n",
       "      <th>Month</th>\n",
       "      <th>Employment</th>\n",
       "    </tr>\n",
       "  </thead>\n",
       "  <tbody>\n",
       "    <tr>\n",
       "      <th>0</th>\n",
       "      <td>1961-01</td>\n",
       "      <td>239.6</td>\n",
       "    </tr>\n",
       "    <tr>\n",
       "      <th>1</th>\n",
       "      <td>1961-02</td>\n",
       "      <td>236.4</td>\n",
       "    </tr>\n",
       "    <tr>\n",
       "      <th>2</th>\n",
       "      <td>1961-03</td>\n",
       "      <td>236.8</td>\n",
       "    </tr>\n",
       "    <tr>\n",
       "      <th>3</th>\n",
       "      <td>1961-04</td>\n",
       "      <td>241.5</td>\n",
       "    </tr>\n",
       "    <tr>\n",
       "      <th>4</th>\n",
       "      <td>1961-05</td>\n",
       "      <td>243.7</td>\n",
       "    </tr>\n",
       "  </tbody>\n",
       "</table>\n",
       "</div>"
      ],
      "text/plain": [
       "     Month  Employment\n",
       "0  1961-01       239.6\n",
       "1  1961-02       236.4\n",
       "2  1961-03       236.8\n",
       "3  1961-04       241.5\n",
       "4  1961-05       243.7"
      ]
     },
     "execution_count": 4,
     "metadata": {},
     "output_type": "execute_result"
    }
   ],
   "source": [
    "#Let's see first 10 rows of it\n",
    "wisc_emp.head()"
   ]
  },
  {
   "cell_type": "code",
   "execution_count": 5,
   "metadata": {},
   "outputs": [
    {
     "data": {
      "text/plain": [
       "<matplotlib.axes._subplots.AxesSubplot at 0x235fffa6f60>"
      ]
     },
     "execution_count": 5,
     "metadata": {},
     "output_type": "execute_result"
    },
    {
     "data": {
      "image/png": "[encoded data removed]",
      "text/plain": [
       "<Figure size 432x288 with 1 Axes>"
      ]
     },
     "metadata": {},
     "output_type": "display_data"
    }
   ],
   "source": [
    "# plot the wisconsin employment dataset\n",
    "wisc_emp.plot()"
   ]
  },
  {
   "cell_type": "code",
   "execution_count": 6,
   "metadata": {},
   "outputs": [],
   "source": [
    "# Capture seasonality component\n",
    "def initialize_T(x, seasonLength):\n",
    "    total=0.0\n",
    "    for i in range(seasonLength):\n",
    "        total+=float(x[i+seasonLength]-x[i])/seasonLength\n",
    "    return total"
   ]
  },
  {
   "cell_type": "code",
   "execution_count": 7,
   "metadata": {},
   "outputs": [
    {
     "data": {
      "text/plain": [
       "1.6916666666666653"
      ]
     },
     "execution_count": 7,
     "metadata": {},
     "output_type": "execute_result"
    }
   ],
   "source": [
    "initialize_T(wisc_emp['Employment'], 12)"
   ]
  },
  {
   "cell_type": "code",
   "execution_count": 8,
   "metadata": {},
   "outputs": [],
   "source": [
    "# Initialize seasonal trend\n",
    "def initialize_seasonalilty(x, seasonLength):\n",
    "    seasons={}\n",
    "    seasonsMean=[]\n",
    "    num_season=int(len(x)/seasonLength)\n",
    "    # Compute season average\n",
    "    for i in range(num_season):\n",
    "        seasonsMean.append(sum(x[seasonLength*i:seasonLength*i+seasonLength])/float(seasonLength))\n",
    "    \n",
    "    # compute season intial values\n",
    "    for i in range(seasonLength):\n",
    "        tot=0.0\n",
    "        for j in range(num_season):\n",
    "            tot+=x[seasonLength*j+i]-seasonsMean[j]\n",
    "        seasons[i]=tot/num_season\n",
    "    return seasons"
   ]
  },
  {
   "cell_type": "code",
   "execution_count": 9,
   "metadata": {},
   "outputs": [
    {
     "data": {
      "text/plain": [
       "{0: -11.325000000000015,\n",
       " 1: -14.48214285714287,\n",
       " 2: -12.667857142857159,\n",
       " 3: -6.403571428571445,\n",
       " 4: -1.603571428571444,\n",
       " 5: 1.5535714285714164,\n",
       " 6: 1.0821428571428413,\n",
       " 7: 2.22499999999998,\n",
       " 8: 3.539285714285705,\n",
       " 9: 6.89642857142856,\n",
       " 10: 11.774999999999986,\n",
       " 11: 19.410714285714267}"
      ]
     },
     "execution_count": 9,
     "metadata": {},
     "output_type": "execute_result"
    }
   ],
   "source": [
    "initialize_seasonalilty(wisc_emp['Employment'], 12)  "
   ]
  },
  {
   "cell_type": "code",
   "execution_count": 10,
   "metadata": {},
   "outputs": [],
   "source": [
    "# Triple Exponential Smoothing Forecast\n",
    "def triple_exp_smoothing(x, seasonLength, alpha, beta, gamma, h):\n",
    "    yhat=[]\n",
    "    S = initialize_seasonalilty(x, seasonLength)\n",
    "    for i in range(len(x)+h):\n",
    "        if i == 0:\n",
    "            F = x[0]\n",
    "            T = initialize_T(x, seasonLength)\n",
    "            yhat.append(x[0])\n",
    "            continue\n",
    "        if i >= len(x):\n",
    "            m = i - len(x) + 1\n",
    "            yhat.append((F + m*T) + S[i%seasonLength])\n",
    "        else:\n",
    "            obsval = x[i]\n",
    "            F_last, F= F, alpha*(obsval-S[i%seasonLength]) + (1-alpha)*(F+T)\n",
    "            T = beta * (F-F_last) + (1-beta)*T\n",
    "            S[i%seasonLength] = gamma*(obsval-F) + (1-gamma)*S[i%seasonLength]\n",
    "            yhat.append(F+T+S[i%seasonLength])\n",
    "    return yhat"
   ]
  },
  {
   "cell_type": "code",
   "execution_count": 11,
   "metadata": {},
   "outputs": [],
   "source": [
    "# Triple exponential smoothing\n",
    "wisc_emp['TES']=triple_exp_smoothing(wisc_emp['Employment'], 12, 0.4, 0.6, 0.2, 0)"
   ]
  },
  {
   "cell_type": "code",
   "execution_count": 12,
   "metadata": {},
   "outputs": [
    {
     "data": {
      "text/plain": [
       "Text(0.5,1,'Triple Smoothing Forecast')"
      ]
     },
     "execution_count": 12,
     "metadata": {},
     "output_type": "execute_result"
    },
    {
     "data": {
      "image/png": "[encoded data removed]",
      "text/plain": [
       "<Figure size 396x396 with 2 Axes>"
      ]
     },
     "metadata": {},
     "output_type": "display_data"
    }
   ],
   "source": [
    "### Plot Single Exponential Smoothing forecasted value\n",
    "fig = plt.figure(figsize=(5.5, 5.5))\n",
    "ax = fig.add_subplot(2,1,1)\n",
    "wisc_emp['Employment'].plot(ax=ax)\n",
    "ax.set_title('Beer Production')\n",
    "ax = fig.add_subplot(2,1,2)\n",
    "wisc_emp['TES'].plot(ax=ax, color='r')\n",
    "ax.set_title('Triple Smoothing Forecast')"
   ]
  }
 ],
 "metadata": {
  "kernelspec": {
   "display_name": "Python 3",
   "language": "python",
   "name": "python3"
  },
  "language_info": {
   "codemirror_mode": {
    "name": "ipython",
    "version": 3
   },
   "file_extension": ".py",
   "mimetype": "text/x-python",
   "name": "python",
   "nbconvert_exporter": "python",
   "pygments_lexer": "ipython3",
   "version": "3.5.5"
  }
 },
 "nbformat": 4,
 "nbformat_minor": 2
}
