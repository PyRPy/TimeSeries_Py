{
 "cells": [
  {
   "cell_type": "code",
   "execution_count": 3,
   "metadata": {},
   "outputs": [],
   "source": [
    "import pandas as pd"
   ]
  },
  {
   "cell_type": "code",
   "execution_count": 4,
   "metadata": {},
   "outputs": [],
   "source": [
    "prices = pd.read_csv(\"MSFTPrices.csv\", parse_dates=['Date'])\n",
    "prices = prices.sort_values(by='Date')\n",
    "prices.set_index('Date', inplace=True)"
   ]
  },
  {
   "cell_type": "code",
   "execution_count": 5,
   "metadata": {},
   "outputs": [
    {
     "data": {
      "text/html": [
       "<div>\n",
       "<style scoped>\n",
       "    .dataframe tbody tr th:only-of-type {\n",
       "        vertical-align: middle;\n",
       "    }\n",
       "\n",
       "    .dataframe tbody tr th {\n",
       "        vertical-align: top;\n",
       "    }\n",
       "\n",
       "    .dataframe thead th {\n",
       "        text-align: right;\n",
       "    }\n",
       "</style>\n",
       "<table border=\"1\" class=\"dataframe\">\n",
       "  <thead>\n",
       "    <tr style=\"text-align: right;\">\n",
       "      <th></th>\n",
       "      <th>Open</th>\n",
       "      <th>High</th>\n",
       "      <th>Low</th>\n",
       "      <th>Close</th>\n",
       "      <th>Volume</th>\n",
       "      <th>Adjusted</th>\n",
       "    </tr>\n",
       "    <tr>\n",
       "      <th>Date</th>\n",
       "      <th></th>\n",
       "      <th></th>\n",
       "      <th></th>\n",
       "      <th></th>\n",
       "      <th></th>\n",
       "      <th></th>\n",
       "    </tr>\n",
       "  </thead>\n",
       "  <tbody>\n",
       "    <tr>\n",
       "      <th>2000-01-03</th>\n",
       "      <td>88.777</td>\n",
       "      <td>89.722</td>\n",
       "      <td>84.712</td>\n",
       "      <td>58.28125</td>\n",
       "      <td>53228400</td>\n",
       "      <td>38.527809</td>\n",
       "    </tr>\n",
       "    <tr>\n",
       "      <th>2000-01-04</th>\n",
       "      <td>85.893</td>\n",
       "      <td>88.588</td>\n",
       "      <td>84.901</td>\n",
       "      <td>56.31250</td>\n",
       "      <td>54119000</td>\n",
       "      <td>37.226345</td>\n",
       "    </tr>\n",
       "    <tr>\n",
       "      <th>2000-01-05</th>\n",
       "      <td>84.050</td>\n",
       "      <td>88.021</td>\n",
       "      <td>82.726</td>\n",
       "      <td>56.90625</td>\n",
       "      <td>64059600</td>\n",
       "      <td>37.618851</td>\n",
       "    </tr>\n",
       "    <tr>\n",
       "      <th>2000-01-06</th>\n",
       "      <td>84.853</td>\n",
       "      <td>86.130</td>\n",
       "      <td>81.970</td>\n",
       "      <td>55.00000</td>\n",
       "      <td>54976600</td>\n",
       "      <td>36.358688</td>\n",
       "    </tr>\n",
       "    <tr>\n",
       "      <th>2000-01-07</th>\n",
       "      <td>82.159</td>\n",
       "      <td>84.901</td>\n",
       "      <td>81.166</td>\n",
       "      <td>55.71875</td>\n",
       "      <td>62013600</td>\n",
       "      <td>36.833828</td>\n",
       "    </tr>\n",
       "  </tbody>\n",
       "</table>\n",
       "</div>"
      ],
      "text/plain": [
       "              Open    High     Low     Close    Volume   Adjusted\n",
       "Date                                                             \n",
       "2000-01-03  88.777  89.722  84.712  58.28125  53228400  38.527809\n",
       "2000-01-04  85.893  88.588  84.901  56.31250  54119000  37.226345\n",
       "2000-01-05  84.050  88.021  82.726  56.90625  64059600  37.618851\n",
       "2000-01-06  84.853  86.130  81.970  55.00000  54976600  36.358688\n",
       "2000-01-07  82.159  84.901  81.166  55.71875  62013600  36.833828"
      ]
     },
     "execution_count": 5,
     "metadata": {},
     "output_type": "execute_result"
    }
   ],
   "source": [
    "prices.head()"
   ]
  },
  {
   "cell_type": "code",
   "execution_count": 7,
   "metadata": {},
   "outputs": [
    {
     "data": {
      "text/html": [
       "<div>\n",
       "<style scoped>\n",
       "    .dataframe tbody tr th:only-of-type {\n",
       "        vertical-align: middle;\n",
       "    }\n",
       "\n",
       "    .dataframe tbody tr th {\n",
       "        vertical-align: top;\n",
       "    }\n",
       "\n",
       "    .dataframe thead th {\n",
       "        text-align: right;\n",
       "    }\n",
       "</style>\n",
       "<table border=\"1\" class=\"dataframe\">\n",
       "  <thead>\n",
       "    <tr style=\"text-align: right;\">\n",
       "      <th></th>\n",
       "      <th>Open</th>\n",
       "      <th>High</th>\n",
       "      <th>Low</th>\n",
       "      <th>Close</th>\n",
       "      <th>Volume</th>\n",
       "      <th>Adjusted</th>\n",
       "      <th>Returns</th>\n",
       "    </tr>\n",
       "    <tr>\n",
       "      <th>Date</th>\n",
       "      <th></th>\n",
       "      <th></th>\n",
       "      <th></th>\n",
       "      <th></th>\n",
       "      <th></th>\n",
       "      <th></th>\n",
       "      <th></th>\n",
       "    </tr>\n",
       "  </thead>\n",
       "  <tbody>\n",
       "    <tr>\n",
       "      <th>2000-01-03</th>\n",
       "      <td>88.777</td>\n",
       "      <td>89.722</td>\n",
       "      <td>84.712</td>\n",
       "      <td>58.28125</td>\n",
       "      <td>53228400</td>\n",
       "      <td>38.527809</td>\n",
       "      <td>NaN</td>\n",
       "    </tr>\n",
       "    <tr>\n",
       "      <th>2000-01-04</th>\n",
       "      <td>85.893</td>\n",
       "      <td>88.588</td>\n",
       "      <td>84.901</td>\n",
       "      <td>56.31250</td>\n",
       "      <td>54119000</td>\n",
       "      <td>37.226345</td>\n",
       "      <td>-0.033780</td>\n",
       "    </tr>\n",
       "    <tr>\n",
       "      <th>2000-01-05</th>\n",
       "      <td>84.050</td>\n",
       "      <td>88.021</td>\n",
       "      <td>82.726</td>\n",
       "      <td>56.90625</td>\n",
       "      <td>64059600</td>\n",
       "      <td>37.618851</td>\n",
       "      <td>0.010544</td>\n",
       "    </tr>\n",
       "    <tr>\n",
       "      <th>2000-01-06</th>\n",
       "      <td>84.853</td>\n",
       "      <td>86.130</td>\n",
       "      <td>81.970</td>\n",
       "      <td>55.00000</td>\n",
       "      <td>54976600</td>\n",
       "      <td>36.358688</td>\n",
       "      <td>-0.033498</td>\n",
       "    </tr>\n",
       "    <tr>\n",
       "      <th>2000-01-07</th>\n",
       "      <td>82.159</td>\n",
       "      <td>84.901</td>\n",
       "      <td>81.166</td>\n",
       "      <td>55.71875</td>\n",
       "      <td>62013600</td>\n",
       "      <td>36.833828</td>\n",
       "      <td>0.013068</td>\n",
       "    </tr>\n",
       "  </tbody>\n",
       "</table>\n",
       "</div>"
      ],
      "text/plain": [
       "              Open    High     Low     Close    Volume   Adjusted   Returns\n",
       "Date                                                                       \n",
       "2000-01-03  88.777  89.722  84.712  58.28125  53228400  38.527809       NaN\n",
       "2000-01-04  85.893  88.588  84.901  56.31250  54119000  37.226345 -0.033780\n",
       "2000-01-05  84.050  88.021  82.726  56.90625  64059600  37.618851  0.010544\n",
       "2000-01-06  84.853  86.130  81.970  55.00000  54976600  36.358688 -0.033498\n",
       "2000-01-07  82.159  84.901  81.166  55.71875  62013600  36.833828  0.013068"
      ]
     },
     "execution_count": 7,
     "metadata": {},
     "output_type": "execute_result"
    }
   ],
   "source": [
    "prices[\"Returns\"] = prices[\"Adjusted\"].pct_change()\n",
    "prices.head()"
   ]
  },
  {
   "cell_type": "code",
   "execution_count": 9,
   "metadata": {},
   "outputs": [],
   "source": [
    "import matplotlib.pyplot as plt"
   ]
  },
  {
   "cell_type": "code",
   "execution_count": 10,
   "metadata": {},
   "outputs": [
    {
     "data": {
      "image/png": "[encoded data removed]",
      "text/plain": [
       "<Figure size 432x288 with 1 Axes>"
      ]
     },
     "metadata": {
      "needs_background": "light"
     },
     "output_type": "display_data"
    }
   ],
   "source": [
    "plt.hist(prices[\"Returns\"].dropna(), bins=75, density=False)\n",
    "plt.show()"
   ]
  },
  {
   "cell_type": "code",
   "execution_count": 11,
   "metadata": {},
   "outputs": [],
   "source": [
    "import numpy as np"
   ]
  },
  {
   "cell_type": "code",
   "execution_count": 12,
   "metadata": {},
   "outputs": [
    {
     "data": {
      "text/plain": [
       "0.00037777546435757676"
      ]
     },
     "execution_count": 12,
     "metadata": {},
     "output_type": "execute_result"
    }
   ],
   "source": [
    "np.mean(prices[\"Returns\"])"
   ]
  },
  {
   "cell_type": "code",
   "execution_count": 13,
   "metadata": {},
   "outputs": [
    {
     "data": {
      "text/plain": [
       "0.09985839482852632"
      ]
     },
     "execution_count": 13,
     "metadata": {},
     "output_type": "execute_result"
    }
   ],
   "source": [
    "# average annuliazed return\n",
    "((1 + np.mean(prices[\"Returns\"]))**252) - 1"
   ]
  },
  {
   "cell_type": "code",
   "execution_count": 15,
   "metadata": {},
   "outputs": [
    {
     "data": {
      "text/plain": [
       "0.00037407816501973704"
      ]
     },
     "execution_count": 15,
     "metadata": {},
     "output_type": "execute_result"
    }
   ],
   "source": [
    "# standard deviation\n",
    "np.std(prices[\"Returns\"])**2"
   ]
  },
  {
   "cell_type": "code",
   "execution_count": 16,
   "metadata": {},
   "outputs": [
    {
     "data": {
      "text/plain": [
       "0.3070304505826315"
      ]
     },
     "execution_count": 16,
     "metadata": {},
     "output_type": "execute_result"
    }
   ],
   "source": [
    "# in one year\n",
    "np.std(prices[\"Returns\"]) * np.sqrt(252)"
   ]
  },
  {
   "cell_type": "code",
   "execution_count": 17,
   "metadata": {},
   "outputs": [],
   "source": [
    "# kurtosis\n",
    "from scipy.stats import kurtosis"
   ]
  },
  {
   "cell_type": "code",
   "execution_count": 18,
   "metadata": {},
   "outputs": [
    {
     "data": {
      "text/plain": [
       "10.314572618025519"
      ]
     },
     "execution_count": 18,
     "metadata": {},
     "output_type": "execute_result"
    }
   ],
   "source": [
    "kurtosis(prices[\"Returns\"].dropna())"
   ]
  },
  {
   "cell_type": "code",
   "execution_count": 19,
   "metadata": {},
   "outputs": [
    {
     "data": {
      "text/plain": [
       "0.0"
      ]
     },
     "execution_count": 19,
     "metadata": {},
     "output_type": "execute_result"
    }
   ],
   "source": [
    "# test normality\n",
    "from scipy import stats \n",
    "p_val = stats.shapiro(prices[\"Returns\"].dropna())[1]\n",
    "p_val"
   ]
  }
 ],
 "metadata": {
  "interpreter": {
   "hash": "2adf19d16ed2c6fe67837b244a4ced5d7c89359985c93926f07c5ff8f5d61c68"
  },
  "kernelspec": {
   "display_name": "Python 3.8.5 ('base')",
   "language": "python",
   "name": "python3"
  },
  "language_info": {
   "codemirror_mode": {
    "name": "ipython",
    "version": 3
   },
   "file_extension": ".py",
   "mimetype": "text/x-python",
   "name": "python",
   "nbconvert_exporter": "python",
   "pygments_lexer": "ipython3",
   "version": "3.8.10"
  },
  "orig_nbformat": 4
 },
 "nbformat": 4,
 "nbformat_minor": 2
}
