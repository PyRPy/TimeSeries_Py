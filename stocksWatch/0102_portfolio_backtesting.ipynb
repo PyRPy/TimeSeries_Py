{
 "cells": [
  {
   "cell_type": "code",
   "execution_count": 1,
   "metadata": {},
   "outputs": [],
   "source": [
    "import numpy as np \n",
    "portfolio_weights = np.array([0.15, 0.15, 0.05, 0.15, 0.1, 0.1, 0.1, 0.1, 0.1])"
   ]
  },
  {
   "cell_type": "code",
   "execution_count": 4,
   "metadata": {},
   "outputs": [],
   "source": [
    "import pandas as pd"
   ]
  },
  {
   "cell_type": "code",
   "execution_count": 5,
   "metadata": {},
   "outputs": [
    {
     "data": {
      "text/html": [
       "<div>\n",
       "<style scoped>\n",
       "    .dataframe tbody tr th:only-of-type {\n",
       "        vertical-align: middle;\n",
       "    }\n",
       "\n",
       "    .dataframe tbody tr th {\n",
       "        vertical-align: top;\n",
       "    }\n",
       "\n",
       "    .dataframe thead th {\n",
       "        text-align: right;\n",
       "    }\n",
       "</style>\n",
       "<table border=\"1\" class=\"dataframe\">\n",
       "  <thead>\n",
       "    <tr style=\"text-align: right;\">\n",
       "      <th></th>\n",
       "      <th>AAPL</th>\n",
       "      <th>MSFT</th>\n",
       "      <th>XOM</th>\n",
       "      <th>JNJ</th>\n",
       "      <th>JPM</th>\n",
       "      <th>AMZN</th>\n",
       "      <th>GE</th>\n",
       "      <th>FB</th>\n",
       "      <th>T</th>\n",
       "    </tr>\n",
       "    <tr>\n",
       "      <th>Date</th>\n",
       "      <th></th>\n",
       "      <th></th>\n",
       "      <th></th>\n",
       "      <th></th>\n",
       "      <th></th>\n",
       "      <th></th>\n",
       "      <th></th>\n",
       "      <th></th>\n",
       "      <th></th>\n",
       "    </tr>\n",
       "  </thead>\n",
       "  <tbody>\n",
       "    <tr>\n",
       "      <th>2017-01-03</th>\n",
       "      <td>0.002849</td>\n",
       "      <td>0.007081</td>\n",
       "      <td>0.006980</td>\n",
       "      <td>0.005468</td>\n",
       "      <td>0.010894</td>\n",
       "      <td>0.005068</td>\n",
       "      <td>0.002848</td>\n",
       "      <td>0.015732</td>\n",
       "      <td>0.011521</td>\n",
       "    </tr>\n",
       "    <tr>\n",
       "      <th>2017-01-04</th>\n",
       "      <td>-0.001119</td>\n",
       "      <td>-0.004474</td>\n",
       "      <td>-0.011002</td>\n",
       "      <td>-0.001640</td>\n",
       "      <td>0.001844</td>\n",
       "      <td>0.004657</td>\n",
       "      <td>0.000316</td>\n",
       "      <td>0.015660</td>\n",
       "      <td>-0.005811</td>\n",
       "    </tr>\n",
       "    <tr>\n",
       "      <th>2017-01-05</th>\n",
       "      <td>0.005085</td>\n",
       "      <td>0.000000</td>\n",
       "      <td>-0.014907</td>\n",
       "      <td>0.010463</td>\n",
       "      <td>-0.009205</td>\n",
       "      <td>0.030732</td>\n",
       "      <td>-0.005678</td>\n",
       "      <td>0.016682</td>\n",
       "      <td>-0.002806</td>\n",
       "    </tr>\n",
       "  </tbody>\n",
       "</table>\n",
       "</div>"
      ],
      "text/plain": [
       "                AAPL      MSFT       XOM       JNJ       JPM      AMZN  \\\n",
       "Date                                                                     \n",
       "2017-01-03  0.002849  0.007081  0.006980  0.005468  0.010894  0.005068   \n",
       "2017-01-04 -0.001119 -0.004474 -0.011002 -0.001640  0.001844  0.004657   \n",
       "2017-01-05  0.005085  0.000000 -0.014907  0.010463 -0.009205  0.030732   \n",
       "\n",
       "                  GE        FB         T  \n",
       "Date                                      \n",
       "2017-01-03  0.002848  0.015732  0.011521  \n",
       "2017-01-04  0.000316  0.015660 -0.005811  \n",
       "2017-01-05 -0.005678  0.016682 -0.002806  "
      ]
     },
     "execution_count": 5,
     "metadata": {},
     "output_type": "execute_result"
    }
   ],
   "source": [
    "StockReturns = pd.read_csv(\"Data/StockReturns.csv\", parse_dates=['Date'])\n",
    "StockReturns = StockReturns.sort_values(by='Date')\n",
    "StockReturns.set_index('Date', inplace=True)\n",
    "StockReturns.head(3)"
   ]
  },
  {
   "cell_type": "code",
   "execution_count": 6,
   "metadata": {},
   "outputs": [
    {
     "data": {
      "text/plain": [
       "Date\n",
       "2017-01-03    0.007265\n",
       "2017-01-04    0.000031\n",
       "2017-01-05    0.004559\n",
       "2017-01-06    0.004792\n",
       "2017-01-09   -0.000293\n",
       "                ...   \n",
       "2017-12-22   -0.001623\n",
       "2017-12-26   -0.003793\n",
       "2017-12-27    0.001896\n",
       "2017-12-28    0.002156\n",
       "2017-12-29   -0.006318\n",
       "Length: 251, dtype: float64"
      ]
     },
     "execution_count": 6,
     "metadata": {},
     "output_type": "execute_result"
    }
   ],
   "source": [
    "port_ret = StockReturns.mul(portfolio_weights, axis=1).sum(axis=1)\n",
    "port_ret"
   ]
  },
  {
   "cell_type": "code",
   "execution_count": 7,
   "metadata": {},
   "outputs": [],
   "source": [
    "StockReturns[\"Portfolio\"] = port_ret"
   ]
  },
  {
   "cell_type": "code",
   "execution_count": 8,
   "metadata": {},
   "outputs": [
    {
     "data": {
      "text/html": [
       "<div>\n",
       "<style scoped>\n",
       "    .dataframe tbody tr th:only-of-type {\n",
       "        vertical-align: middle;\n",
       "    }\n",
       "\n",
       "    .dataframe tbody tr th {\n",
       "        vertical-align: top;\n",
       "    }\n",
       "\n",
       "    .dataframe thead th {\n",
       "        text-align: right;\n",
       "    }\n",
       "</style>\n",
       "<table border=\"1\" class=\"dataframe\">\n",
       "  <thead>\n",
       "    <tr style=\"text-align: right;\">\n",
       "      <th></th>\n",
       "      <th>AAPL</th>\n",
       "      <th>MSFT</th>\n",
       "      <th>XOM</th>\n",
       "      <th>JNJ</th>\n",
       "      <th>JPM</th>\n",
       "      <th>AMZN</th>\n",
       "      <th>GE</th>\n",
       "      <th>FB</th>\n",
       "      <th>T</th>\n",
       "      <th>Portfolio</th>\n",
       "    </tr>\n",
       "    <tr>\n",
       "      <th>Date</th>\n",
       "      <th></th>\n",
       "      <th></th>\n",
       "      <th></th>\n",
       "      <th></th>\n",
       "      <th></th>\n",
       "      <th></th>\n",
       "      <th></th>\n",
       "      <th></th>\n",
       "      <th></th>\n",
       "      <th></th>\n",
       "    </tr>\n",
       "  </thead>\n",
       "  <tbody>\n",
       "    <tr>\n",
       "      <th>2017-01-03</th>\n",
       "      <td>0.002849</td>\n",
       "      <td>0.007081</td>\n",
       "      <td>0.006980</td>\n",
       "      <td>0.005468</td>\n",
       "      <td>0.010894</td>\n",
       "      <td>0.005068</td>\n",
       "      <td>0.002848</td>\n",
       "      <td>0.015732</td>\n",
       "      <td>0.011521</td>\n",
       "      <td>0.007265</td>\n",
       "    </tr>\n",
       "    <tr>\n",
       "      <th>2017-01-04</th>\n",
       "      <td>-0.001119</td>\n",
       "      <td>-0.004474</td>\n",
       "      <td>-0.011002</td>\n",
       "      <td>-0.001640</td>\n",
       "      <td>0.001844</td>\n",
       "      <td>0.004657</td>\n",
       "      <td>0.000316</td>\n",
       "      <td>0.015660</td>\n",
       "      <td>-0.005811</td>\n",
       "      <td>0.000031</td>\n",
       "    </tr>\n",
       "    <tr>\n",
       "      <th>2017-01-05</th>\n",
       "      <td>0.005085</td>\n",
       "      <td>0.000000</td>\n",
       "      <td>-0.014907</td>\n",
       "      <td>0.010463</td>\n",
       "      <td>-0.009205</td>\n",
       "      <td>0.030732</td>\n",
       "      <td>-0.005678</td>\n",
       "      <td>0.016682</td>\n",
       "      <td>-0.002806</td>\n",
       "      <td>0.004559</td>\n",
       "    </tr>\n",
       "  </tbody>\n",
       "</table>\n",
       "</div>"
      ],
      "text/plain": [
       "                AAPL      MSFT       XOM       JNJ       JPM      AMZN  \\\n",
       "Date                                                                     \n",
       "2017-01-03  0.002849  0.007081  0.006980  0.005468  0.010894  0.005068   \n",
       "2017-01-04 -0.001119 -0.004474 -0.011002 -0.001640  0.001844  0.004657   \n",
       "2017-01-05  0.005085  0.000000 -0.014907  0.010463 -0.009205  0.030732   \n",
       "\n",
       "                  GE        FB         T  Portfolio  \n",
       "Date                                                 \n",
       "2017-01-03  0.002848  0.015732  0.011521   0.007265  \n",
       "2017-01-04  0.000316  0.015660 -0.005811   0.000031  \n",
       "2017-01-05 -0.005678  0.016682 -0.002806   0.004559  "
      ]
     },
     "execution_count": 8,
     "metadata": {},
     "output_type": "execute_result"
    }
   ],
   "source": [
    "StockReturns.head(3)"
   ]
  },
  {
   "cell_type": "code",
   "execution_count": 13,
   "metadata": {},
   "outputs": [],
   "source": [
    "# equally weighted portfolios as naive approach\n",
    "numstocks = 9 \n",
    "portfolio_weights_ew = np.repeat(1/numstocks, numstocks)\n",
    "StockReturns[\"Portfolio_EW\"] = StockReturns.iloc[:, 0:numstocks].mul(portfolio_weights_ew, axis=1).sum(axis=1)"
   ]
  },
  {
   "cell_type": "code",
   "execution_count": 10,
   "metadata": {},
   "outputs": [
    {
     "data": {
      "text/plain": [
       "<AxesSubplot:xlabel='Date'>"
      ]
     },
     "execution_count": 10,
     "metadata": {},
     "output_type": "execute_result"
    },
    {
     "data": {
      "image/png": "[encoded data removed]",
      "text/plain": [
       "<Figure size 432x288 with 1 Axes>"
      ]
     },
     "metadata": {
      "needs_background": "light"
     },
     "output_type": "display_data"
    }
   ],
   "source": [
    "# plot portfolio return trend\n",
    "StockReturns[\"Portfolio\"].plot()"
   ]
  },
  {
   "cell_type": "code",
   "execution_count": 14,
   "metadata": {},
   "outputs": [
    {
     "data": {
      "text/html": [
       "<div>\n",
       "<style scoped>\n",
       "    .dataframe tbody tr th:only-of-type {\n",
       "        vertical-align: middle;\n",
       "    }\n",
       "\n",
       "    .dataframe tbody tr th {\n",
       "        vertical-align: top;\n",
       "    }\n",
       "\n",
       "    .dataframe thead th {\n",
       "        text-align: right;\n",
       "    }\n",
       "</style>\n",
       "<table border=\"1\" class=\"dataframe\">\n",
       "  <thead>\n",
       "    <tr style=\"text-align: right;\">\n",
       "      <th></th>\n",
       "      <th>AAPL</th>\n",
       "      <th>MSFT</th>\n",
       "      <th>XOM</th>\n",
       "      <th>JNJ</th>\n",
       "      <th>JPM</th>\n",
       "      <th>AMZN</th>\n",
       "      <th>GE</th>\n",
       "      <th>FB</th>\n",
       "      <th>T</th>\n",
       "      <th>Portfolio</th>\n",
       "      <th>Portfolio_EW</th>\n",
       "    </tr>\n",
       "    <tr>\n",
       "      <th>Date</th>\n",
       "      <th></th>\n",
       "      <th></th>\n",
       "      <th></th>\n",
       "      <th></th>\n",
       "      <th></th>\n",
       "      <th></th>\n",
       "      <th></th>\n",
       "      <th></th>\n",
       "      <th></th>\n",
       "      <th></th>\n",
       "      <th></th>\n",
       "    </tr>\n",
       "  </thead>\n",
       "  <tbody>\n",
       "    <tr>\n",
       "      <th>2017-01-03</th>\n",
       "      <td>0.002849</td>\n",
       "      <td>0.007081</td>\n",
       "      <td>0.006980</td>\n",
       "      <td>0.005468</td>\n",
       "      <td>0.010894</td>\n",
       "      <td>0.005068</td>\n",
       "      <td>0.002848</td>\n",
       "      <td>0.015732</td>\n",
       "      <td>0.011521</td>\n",
       "      <td>0.007265</td>\n",
       "      <td>0.007605</td>\n",
       "    </tr>\n",
       "    <tr>\n",
       "      <th>2017-01-04</th>\n",
       "      <td>-0.001119</td>\n",
       "      <td>-0.004474</td>\n",
       "      <td>-0.011002</td>\n",
       "      <td>-0.001640</td>\n",
       "      <td>0.001844</td>\n",
       "      <td>0.004657</td>\n",
       "      <td>0.000316</td>\n",
       "      <td>0.015660</td>\n",
       "      <td>-0.005811</td>\n",
       "      <td>0.000031</td>\n",
       "      <td>-0.000174</td>\n",
       "    </tr>\n",
       "    <tr>\n",
       "      <th>2017-01-05</th>\n",
       "      <td>0.005085</td>\n",
       "      <td>0.000000</td>\n",
       "      <td>-0.014907</td>\n",
       "      <td>0.010463</td>\n",
       "      <td>-0.009205</td>\n",
       "      <td>0.030732</td>\n",
       "      <td>-0.005678</td>\n",
       "      <td>0.016682</td>\n",
       "      <td>-0.002806</td>\n",
       "      <td>0.004559</td>\n",
       "      <td>0.003374</td>\n",
       "    </tr>\n",
       "  </tbody>\n",
       "</table>\n",
       "</div>"
      ],
      "text/plain": [
       "                AAPL      MSFT       XOM       JNJ       JPM      AMZN  \\\n",
       "Date                                                                     \n",
       "2017-01-03  0.002849  0.007081  0.006980  0.005468  0.010894  0.005068   \n",
       "2017-01-04 -0.001119 -0.004474 -0.011002 -0.001640  0.001844  0.004657   \n",
       "2017-01-05  0.005085  0.000000 -0.014907  0.010463 -0.009205  0.030732   \n",
       "\n",
       "                  GE        FB         T  Portfolio  Portfolio_EW  \n",
       "Date                                                               \n",
       "2017-01-03  0.002848  0.015732  0.011521   0.007265      0.007605  \n",
       "2017-01-04  0.000316  0.015660 -0.005811   0.000031     -0.000174  \n",
       "2017-01-05 -0.005678  0.016682 -0.002806   0.004559      0.003374  "
      ]
     },
     "execution_count": 14,
     "metadata": {},
     "output_type": "execute_result"
    }
   ],
   "source": [
    "StockReturns.head(3)"
   ]
  },
  {
   "cell_type": "code",
   "execution_count": 15,
   "metadata": {},
   "outputs": [],
   "source": [
    "# portfolio cumulative returns\n",
    "import matplotlib.pyplot as plt \n",
    "CumulativeReturns = ((1 + StockReturns).cumprod() -1)\n"
   ]
  },
  {
   "cell_type": "code",
   "execution_count": 16,
   "metadata": {},
   "outputs": [
    {
     "data": {
      "text/plain": [
       "<AxesSubplot:xlabel='Date'>"
      ]
     },
     "execution_count": 16,
     "metadata": {},
     "output_type": "execute_result"
    },
    {
     "data": {
      "image/png": "[encoded data removed]",
      "text/plain": [
       "<Figure size 432x288 with 1 Axes>"
      ]
     },
     "metadata": {
      "needs_background": "light"
     },
     "output_type": "display_data"
    }
   ],
   "source": [
    "CumulativeReturns[[\"Portfolio\", \"Portfolio_EW\"]].plot()"
   ]
  },
  {
   "cell_type": "code",
   "execution_count": 17,
   "metadata": {},
   "outputs": [
    {
     "data": {
      "text/plain": [
       "array([0.22727273, 0.17045455, 0.11363636, 0.05681818, 0.05681818,\n",
       "       0.06818182, 0.09090909, 0.10227273, 0.11363636])"
      ]
     },
     "execution_count": 17,
     "metadata": {},
     "output_type": "execute_result"
    }
   ],
   "source": [
    "# Market-Cap weights\n",
    "market_cap = np.array([2000, 1500, 1000, 500, 500, 600, 800, 900, 1000])\n",
    "mcap_weights = market_cap / sum(market_cap)\n",
    "mcap_weights"
   ]
  },
  {
   "cell_type": "code",
   "execution_count": 19,
   "metadata": {},
   "outputs": [
    {
     "name": "stdout",
     "output_type": "stream",
     "text": [
      "          AAPL      MSFT       XOM       JNJ       JPM      AMZN        GE  \\\n",
      "AAPL  1.000000  0.437430  0.055505  0.038432  0.199914  0.509472  0.006766   \n",
      "MSFT  0.437430  1.000000  0.084108  0.230215  0.191248  0.621096 -0.044827   \n",
      "XOM   0.055505  0.084108  1.000000  0.121012  0.305926  0.015118  0.193861   \n",
      "JNJ   0.038432  0.230215  0.121012  1.000000  0.070328  0.052781  0.067930   \n",
      "JPM   0.199914  0.191248  0.305926  0.070328  1.000000  0.013919  0.257401   \n",
      "AMZN  0.509472  0.621096  0.015118  0.052781  0.013919  1.000000 -0.092188   \n",
      "GE    0.006766 -0.044827  0.193861  0.067930  0.257401 -0.092188  1.000000   \n",
      "FB    0.542367  0.543341 -0.046813  0.079391  0.095245  0.653030 -0.024364   \n",
      "T     0.005082 -0.021079  0.197576  0.091622  0.252832 -0.017909  0.292706   \n",
      "\n",
      "            FB         T  \n",
      "AAPL  0.542367  0.005082  \n",
      "MSFT  0.543341 -0.021079  \n",
      "XOM  -0.046813  0.197576  \n",
      "JNJ   0.079391  0.091622  \n",
      "JPM   0.095245  0.252832  \n",
      "AMZN  0.653030 -0.017909  \n",
      "GE   -0.024364  0.292706  \n",
      "FB    1.000000 -0.024505  \n",
      "T    -0.024505  1.000000  \n"
     ]
    }
   ],
   "source": [
    "# Pearson correlation\n",
    "correlation_matrix = StockReturns.drop([\"Portfolio\", \"Portfolio_EW\"], axis=1).corr()\n",
    "print(correlation_matrix)"
   ]
  },
  {
   "cell_type": "code",
   "execution_count": 26,
   "metadata": {},
   "outputs": [
    {
     "name": "stdout",
     "output_type": "stream",
     "text": [
      "              AAPL      MSFT       XOM       JNJ       JPM      AMZN  \\\n",
      "AAPL  1.230004e-04  0.000045  0.000004  0.000003  0.000023  0.000075   \n",
      "MSFT  4.523795e-05  0.000087  0.000006  0.000015  0.000018  0.000076   \n",
      "XOM   4.335558e-06  0.000006  0.000050  0.000006  0.000022  0.000001   \n",
      "JNJ   3.072253e-06  0.000015  0.000006  0.000052  0.000005  0.000005   \n",
      "JPM   2.268091e-05  0.000018  0.000022  0.000005  0.000105  0.000002   \n",
      "AMZN  7.462331e-05  0.000076  0.000001  0.000005  0.000002  0.000174   \n",
      "GE    9.366843e-07 -0.000005  0.000017  0.000006  0.000033 -0.000015   \n",
      "FB    6.445736e-05  0.000054 -0.000004  0.000006  0.000010  0.000092   \n",
      "T     6.028459e-07 -0.000002  0.000015  0.000007  0.000028 -0.000003   \n",
      "\n",
      "                GE        FB             T  \n",
      "AAPL  9.366843e-07  0.000064  6.028459e-07  \n",
      "MSFT -5.218049e-06  0.000054 -2.102457e-06  \n",
      "XOM   1.704432e-05 -0.000004  1.488464e-05  \n",
      "JNJ   6.112208e-06  0.000006  7.064036e-06  \n",
      "JPM   3.287008e-05  0.000010  2.766552e-05  \n",
      "AMZN -1.519864e-05  0.000092 -2.530026e-06  \n",
      "GE    1.558316e-04 -0.000003  3.908441e-05  \n",
      "FB   -3.259186e-06  0.000115 -2.808798e-06  \n",
      "T     3.908441e-05 -0.000003  1.144161e-04  \n"
     ]
    }
   ],
   "source": [
    "# covariance matrix\n",
    "cov_mat = StockReturns.cov()\n",
    "print(cov_mat)"
   ]
  },
  {
   "cell_type": "code",
   "execution_count": 27,
   "metadata": {},
   "outputs": [],
   "source": [
    "# annalized covariance matrix\n",
    "cov_mat_annual = cov_mat * 252"
   ]
  },
  {
   "cell_type": "code",
   "execution_count": 29,
   "metadata": {},
   "outputs": [
    {
     "data": {
      "text/plain": [
       "0.005471207615092258"
      ]
     },
     "execution_count": 29,
     "metadata": {},
     "output_type": "execute_result"
    }
   ],
   "source": [
    "# portfolio std \n",
    "port_vol = np.sqrt(np.dot(portfolio_weights.T, np.dot(cov_mat, portfolio_weights)))\n",
    "port_vol "
   ]
  },
  {
   "cell_type": "code",
   "execution_count": 31,
   "metadata": {},
   "outputs": [
    {
     "data": {
      "text/html": [
       "<div>\n",
       "<style scoped>\n",
       "    .dataframe tbody tr th:only-of-type {\n",
       "        vertical-align: middle;\n",
       "    }\n",
       "\n",
       "    .dataframe tbody tr th {\n",
       "        vertical-align: top;\n",
       "    }\n",
       "\n",
       "    .dataframe thead th {\n",
       "        text-align: right;\n",
       "    }\n",
       "</style>\n",
       "<table border=\"1\" class=\"dataframe\">\n",
       "  <thead>\n",
       "    <tr style=\"text-align: right;\">\n",
       "      <th></th>\n",
       "      <th>AAPL weight</th>\n",
       "      <th>MSFT weight</th>\n",
       "      <th>XOM weight</th>\n",
       "      <th>JNJ weight</th>\n",
       "      <th>JPM weight</th>\n",
       "      <th>AMZN weight</th>\n",
       "      <th>GE weight</th>\n",
       "      <th>FB weight</th>\n",
       "      <th>T weight</th>\n",
       "      <th>Returns</th>\n",
       "      <th>Volatility</th>\n",
       "    </tr>\n",
       "  </thead>\n",
       "  <tbody>\n",
       "    <tr>\n",
       "      <th>0</th>\n",
       "      <td>0.000053</td>\n",
       "      <td>0.263110</td>\n",
       "      <td>0.007022</td>\n",
       "      <td>0.040087</td>\n",
       "      <td>0.000027</td>\n",
       "      <td>0.024316</td>\n",
       "      <td>0.355899</td>\n",
       "      <td>0.299400</td>\n",
       "      <td>0.010087</td>\n",
       "      <td>0.127453</td>\n",
       "      <td>0.171565</td>\n",
       "    </tr>\n",
       "    <tr>\n",
       "      <th>1</th>\n",
       "      <td>0.042360</td>\n",
       "      <td>0.034922</td>\n",
       "      <td>0.079355</td>\n",
       "      <td>0.043057</td>\n",
       "      <td>0.001435</td>\n",
       "      <td>0.202032</td>\n",
       "      <td>0.225924</td>\n",
       "      <td>0.362324</td>\n",
       "      <td>0.008590</td>\n",
       "      <td>0.138614</td>\n",
       "      <td>0.182723</td>\n",
       "    </tr>\n",
       "    <tr>\n",
       "      <th>2</th>\n",
       "      <td>0.207824</td>\n",
       "      <td>0.002132</td>\n",
       "      <td>0.005982</td>\n",
       "      <td>0.041657</td>\n",
       "      <td>0.007498</td>\n",
       "      <td>0.406642</td>\n",
       "      <td>0.064929</td>\n",
       "      <td>0.229260</td>\n",
       "      <td>0.034075</td>\n",
       "      <td>0.155952</td>\n",
       "      <td>0.201185</td>\n",
       "    </tr>\n",
       "  </tbody>\n",
       "</table>\n",
       "</div>"
      ],
      "text/plain": [
       "   AAPL weight  MSFT weight  XOM weight  JNJ weight  JPM weight  AMZN weight  \\\n",
       "0     0.000053     0.263110    0.007022    0.040087    0.000027     0.024316   \n",
       "1     0.042360     0.034922    0.079355    0.043057    0.001435     0.202032   \n",
       "2     0.207824     0.002132    0.005982    0.041657    0.007498     0.406642   \n",
       "\n",
       "   GE weight  FB weight  T weight   Returns  Volatility  \n",
       "0   0.355899   0.299400  0.010087  0.127453    0.171565  \n",
       "1   0.225924   0.362324  0.008590  0.138614    0.182723  \n",
       "2   0.064929   0.229260  0.034075  0.155952    0.201185  "
      ]
     },
     "execution_count": 31,
     "metadata": {},
     "output_type": "execute_result"
    }
   ],
   "source": [
    "# Markowitz portfolios\n",
    "port_sim = pd.read_csv(\"Data/SharpeRatioPortfolios.csv\")\n",
    "port_sim.head(3)"
   ]
  },
  {
   "cell_type": "code",
   "execution_count": 33,
   "metadata": {},
   "outputs": [
    {
     "data": {
      "text/plain": [
       "array([0.00755369, 0.00573255, 0.00724446, 0.16672379, 0.38235578,\n",
       "       0.01794065, 0.0103131 , 0.01125444, 0.39088154])"
      ]
     },
     "execution_count": 33,
     "metadata": {},
     "output_type": "execute_result"
    }
   ],
   "source": [
    "# MSR : 'maximum sharpe ratio' portfolio\n",
    "numstocks = 9\n",
    "risk_free = 0 \n",
    "port_sim[\"Sharpe\"] = (port_sim[\"Returns\"] - risk_free) / port_sim[\"Volatility\"]\n",
    "MSR = port_sim.sort_values(by=['Sharpe'], ascending=False)\n",
    "MSR_weights = MSR.iloc[0, 0:numstocks]\n",
    "np.array(MSR_weights)"
   ]
  }
 ],
 "metadata": {
  "interpreter": {
   "hash": "aee8b7b246df8f9039afb4144a1f6fd8d2ca17a180786b69acc140d282b71a49"
  },
  "kernelspec": {
   "display_name": "Python 3.8.10 64-bit",
   "language": "python",
   "name": "python3"
  },
  "language_info": {
   "codemirror_mode": {
    "name": "ipython",
    "version": 3
   },
   "file_extension": ".py",
   "mimetype": "text/x-python",
   "name": "python",
   "nbconvert_exporter": "python",
   "pygments_lexer": "ipython3",
   "version": "3.8.10"
  },
  "orig_nbformat": 4
 },
 "nbformat": 4,
 "nbformat_minor": 2
}
